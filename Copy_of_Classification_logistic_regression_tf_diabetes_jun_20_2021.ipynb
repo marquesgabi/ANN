{
  "nbformat": 4,
  "nbformat_minor": 0,
  "metadata": {
    "colab": {
      "name": "Copy of Classification_logistic_regression_tf_diabetes_jun_20_2021.ipynb",
      "provenance": [],
      "authorship_tag": "ABX9TyOCgarSLQabfRJvfOra5evR",
      "include_colab_link": true
    },
    "kernelspec": {
      "name": "python3",
      "display_name": "Python 3"
    },
    "language_info": {
      "name": "python"
    }
  },
  "cells": [
    {
      "cell_type": "markdown",
      "metadata": {
        "id": "view-in-github",
        "colab_type": "text"
      },
      "source": [
        "<a href=\"https://colab.research.google.com/github/ucfilho/ANN/blob/master/Copy_of_Classification_logistic_regression_tf_diabetes_jun_20_2021.ipynb\" target=\"_parent\"><img src=\"https://colab.research.google.com/assets/colab-badge.svg\" alt=\"Open In Colab\"/></a>"
      ]
    },
    {
      "cell_type": "code",
      "metadata": {
        "colab": {
          "base_uri": "https://localhost:8080/",
          "height": 53
        },
        "id": "sKvXSx5soL05",
        "outputId": "ace0853e-11e9-47e4-c697-a3481afe34ec"
      },
      "source": [
        "'''\n",
        "This code classify diabetes according to logistic regression using tensor flow\n",
        "It correspond a neural network containing only one neuron \n",
        "The neuron has activation function type sigmoid\n",
        "'''"
      ],
      "execution_count": null,
      "outputs": [
        {
          "output_type": "execute_result",
          "data": {
            "application/vnd.google.colaboratory.intrinsic+json": {
              "type": "string"
            },
            "text/plain": [
              "'\\nThis code classify diabetes according to logistic regression using tensor flow\\nIt correspond a neural network containing only one neuron \\nThe neuron has activation function type sigmoid\\n'"
            ]
          },
          "metadata": {
            "tags": []
          },
          "execution_count": 1
        }
      ]
    },
    {
      "cell_type": "code",
      "metadata": {
        "id": "ZiZHQCynd6AI"
      },
      "source": [
        "import tensorflow as tf\n",
        "from sklearn.model_selection import train_test_split\n",
        "from sklearn.preprocessing import StandardScaler\n",
        "from sklearn.metrics import classification_report, confusion_matrix\n",
        "import matplotlib.pyplot as plt\n",
        "import pandas as pd"
      ],
      "execution_count": null,
      "outputs": []
    },
    {
      "cell_type": "code",
      "metadata": {
        "colab": {
          "base_uri": "https://localhost:8080/"
        },
        "id": "BALMG7Wud_oG",
        "outputId": "9b68a231-2b45-4af4-d9b0-f2d48d096afa"
      },
      "source": [
        "print(tf.__version__)"
      ],
      "execution_count": null,
      "outputs": [
        {
          "output_type": "stream",
          "text": [
            "2.5.0\n"
          ],
          "name": "stdout"
        }
      ]
    },
    {
      "cell_type": "code",
      "metadata": {
        "id": "KUAv68DNeoYT",
        "colab": {
          "base_uri": "https://localhost:8080/"
        },
        "outputId": "067075cb-6924-4c15-a009-8c9f30cdf9f3"
      },
      "source": [
        "!git clone https://github.com/ucfilho/Machine_Learning_DataSet\n",
        "%cd Machine_Learning_DataSet"
      ],
      "execution_count": null,
      "outputs": [
        {
          "output_type": "stream",
          "text": [
            "fatal: destination path 'Machine_Learning_DataSet' already exists and is not an empty directory.\n",
            "/content/Machine_Learning_DataSet\n"
          ],
          "name": "stdout"
        }
      ]
    },
    {
      "cell_type": "code",
      "metadata": {
        "colab": {
          "base_uri": "https://localhost:8080/"
        },
        "id": "_xnWTJlgf4p4",
        "outputId": "2b38c87d-ad11-4b3d-fa12-ba27d2be4d90"
      },
      "source": [
        "df=pd.read_csv(\"Pima_diabetes.txt\",sep='\\t')\n",
        "# df=pd.read_csv(\"diabetes.csv\")\n",
        "print(df.head())"
      ],
      "execution_count": null,
      "outputs": [
        {
          "output_type": "stream",
          "text": [
            "   Pregnancies  Glucose  BloodPressure  ...  DiabetesPedigreeFunction  Age  Outcome\n",
            "0            6      148             72  ...                     0.627   50        1\n",
            "1            1       85             66  ...                     0.351   31        0\n",
            "2            8      183             64  ...                     0.672   32        1\n",
            "3            1       89             66  ...                     0.167   21        0\n",
            "4            0      137             40  ...                     2.288   33        1\n",
            "\n",
            "[5 rows x 9 columns]\n"
          ],
          "name": "stdout"
        }
      ]
    },
    {
      "cell_type": "code",
      "metadata": {
        "colab": {
          "base_uri": "https://localhost:8080/"
        },
        "id": "sj8MsGsCYYPS",
        "outputId": "e130d468-7bea-4de8-f4df-d20b6d7944db"
      },
      "source": [
        "!ls"
      ],
      "execution_count": null,
      "outputs": [
        {
          "output_type": "stream",
          "text": [
            "diabetes.csv  Pima_diabetes.txt  README.md\n"
          ],
          "name": "stdout"
        }
      ]
    },
    {
      "cell_type": "code",
      "metadata": {
        "colab": {
          "base_uri": "https://localhost:8080/"
        },
        "id": "jJ6rJxNEe1Ox",
        "outputId": "5b431523-09b6-4be6-9625-5f9f38c67a7c"
      },
      "source": [
        "df.columns"
      ],
      "execution_count": null,
      "outputs": [
        {
          "output_type": "execute_result",
          "data": {
            "text/plain": [
              "Index(['Pregnancies', 'Glucose', 'BloodPressure', 'SkinThickness', 'Insulin',\n",
              "       'BMI', 'DiabetesPedigreeFunction', 'Age', 'Outcome'],\n",
              "      dtype='object')"
            ]
          },
          "metadata": {
            "tags": []
          },
          "execution_count": 7
        }
      ]
    },
    {
      "cell_type": "code",
      "metadata": {
        "id": "DLZSOGz6bj99"
      },
      "source": [
        "data_target = df['Outcome']\n",
        "data_X = df.drop(['Outcome'],axis=1 )"
      ],
      "execution_count": null,
      "outputs": []
    },
    {
      "cell_type": "code",
      "metadata": {
        "id": "ObvxvA-aeb50"
      },
      "source": [
        "X_train, X_test, y_train, y_test = train_test_split(data_X, data_target, test_size = 0.33)"
      ],
      "execution_count": null,
      "outputs": []
    },
    {
      "cell_type": "code",
      "metadata": {
        "id": "xfEPg_lpfea-"
      },
      "source": [
        "N,D = X_train.shape"
      ],
      "execution_count": null,
      "outputs": []
    },
    {
      "cell_type": "code",
      "metadata": {
        "id": "ye4_G1JVhaFN"
      },
      "source": [
        "scaler = StandardScaler()\n",
        "X_train = scaler.fit_transform(X_train)\n",
        "X_test = scaler.transform(X_test)"
      ],
      "execution_count": null,
      "outputs": []
    },
    {
      "cell_type": "code",
      "metadata": {
        "id": "bu-2v11ri_bL"
      },
      "source": [
        "model = tf.keras.models.Sequential()\n",
        "model.add(tf.keras.layers.Dense(1, input_shape=(D,), activation='sigmoid'))\n"
      ],
      "execution_count": null,
      "outputs": []
    },
    {
      "cell_type": "code",
      "metadata": {
        "id": "bWGKariIkGiF"
      },
      "source": [
        "model.compile(optimizer = 'adam', \n",
        "              loss  ='binary_crossentropy', \n",
        "              metrics = 'accuracy')"
      ],
      "execution_count": null,
      "outputs": []
    },
    {
      "cell_type": "code",
      "metadata": {
        "id": "yuSYjHUYk3Re"
      },
      "source": [
        "r = model.fit(X_train,y_train, \n",
        "              validation_data=(X_test,y_test),\n",
        "              epochs = 100, verbose=0)  # verbose = 1 will show the epochs"
      ],
      "execution_count": null,
      "outputs": []
    },
    {
      "cell_type": "code",
      "metadata": {
        "colab": {
          "base_uri": "https://localhost:8080/"
        },
        "id": "fKxSFMfQlxeT",
        "outputId": "64a0be2e-0aa4-42dd-af56-6e53bbb64e4a"
      },
      "source": [
        "print('loss and accuray train=',model.evaluate(X_train,y_train))\n",
        "print('loss and accuray test=',model.evaluate(X_test,y_test))"
      ],
      "execution_count": null,
      "outputs": [
        {
          "output_type": "stream",
          "text": [
            "17/17 [==============================] - 0s 1ms/step - loss: 0.4605 - accuracy: 0.7938\n",
            "loss and accuray train= [0.46053946018218994, 0.7937743067741394]\n",
            "8/8 [==============================] - 0s 2ms/step - loss: 0.5272 - accuracy: 0.7559\n",
            "loss and accuray test= [0.5272250771522522, 0.7559055089950562]\n"
          ],
          "name": "stdout"
        }
      ]
    },
    {
      "cell_type": "code",
      "metadata": {
        "colab": {
          "base_uri": "https://localhost:8080/",
          "height": 283
        },
        "id": "woJCMb6znIdT",
        "outputId": "e14b2812-a007-43fa-9c07-9e6a28acd388"
      },
      "source": [
        "plt.plot(r.history['accuracy'],label='acc')\n",
        "plt.plot(r.history['val_accuracy'],label='val_acc')\n",
        "plt.legend()"
      ],
      "execution_count": null,
      "outputs": [
        {
          "output_type": "execute_result",
          "data": {
            "text/plain": [
              "<matplotlib.legend.Legend at 0x7f2ca2694a10>"
            ]
          },
          "metadata": {
            "tags": []
          },
          "execution_count": 16
        },
        {
          "output_type": "display_data",
          "data": {
            "image/png": "[encoded data removed]",
            "text/plain": [
              "<Figure size 432x288 with 1 Axes>"
            ]
          },
          "metadata": {
            "tags": [],
            "needs_background": "light"
          }
        }
      ]
    },
    {
      "cell_type": "code",
      "metadata": {
        "colab": {
          "base_uri": "https://localhost:8080/",
          "height": 283
        },
        "id": "-HFz_BDQnh22",
        "outputId": "aaf4ba8a-833a-4e1c-beee-aee65b3a9240"
      },
      "source": [
        "plt.plot(r.history['loss'],label='loss')\n",
        "plt.plot(r.history['val_loss'],label='val_loss')\n",
        "plt.legend()"
      ],
      "execution_count": null,
      "outputs": [
        {
          "output_type": "execute_result",
          "data": {
            "text/plain": [
              "<matplotlib.legend.Legend at 0x7f2ca158f0d0>"
            ]
          },
          "metadata": {
            "tags": []
          },
          "execution_count": 17
        },
        {
          "output_type": "display_data",
          "data": {
            "image/png": "[encoded data removed]",
            "text/plain": [
              "<Figure size 432x288 with 1 Axes>"
            ]
          },
          "metadata": {
            "tags": [],
            "needs_background": "light"
          }
        }
      ]
    },
    {
      "cell_type": "code",
      "metadata": {
        "id": "OxNEr5eXpE5j"
      },
      "source": [
        "pred_train = model.predict(X_train)\n",
        "pred_test = model.predict(X_test)"
      ],
      "execution_count": null,
      "outputs": []
    },
    {
      "cell_type": "code",
      "metadata": {
        "colab": {
          "base_uri": "https://localhost:8080/"
        },
        "id": "jzLBPWJfpXnR",
        "outputId": "2b8fbb8f-64fc-4515-c9d3-b482290ea4ef"
      },
      "source": [
        "pred_test"
      ],
      "execution_count": null,
      "outputs": [
        {
          "output_type": "execute_result",
          "data": {
            "text/plain": [
              "array([[0.31330347],\n",
              "       [0.5618536 ],\n",
              "       [0.41373777],\n",
              "       [0.06479678],\n",
              "       [0.25573462],\n",
              "       [0.07699972],\n",
              "       [0.13130924],\n",
              "       [0.39251715],\n",
              "       [0.662907  ],\n",
              "       [0.4989786 ],\n",
              "       [0.14962602],\n",
              "       [0.3509615 ],\n",
              "       [0.09293792],\n",
              "       [0.62050325],\n",
              "       [0.39868993],\n",
              "       [0.6108231 ],\n",
              "       [0.6491156 ],\n",
              "       [0.33491066],\n",
              "       [0.21543282],\n",
              "       [0.43926346],\n",
              "       [0.38870165],\n",
              "       [0.22390819],\n",
              "       [0.5822554 ],\n",
              "       [0.20498526],\n",
              "       [0.02959839],\n",
              "       [0.08156735],\n",
              "       [0.34988675],\n",
              "       [0.15755388],\n",
              "       [0.20060208],\n",
              "       [0.13209614],\n",
              "       [0.7208086 ],\n",
              "       [0.14549112],\n",
              "       [0.33203417],\n",
              "       [0.10090759],\n",
              "       [0.1756849 ],\n",
              "       [0.23516867],\n",
              "       [0.36369625],\n",
              "       [0.61283535],\n",
              "       [0.26381695],\n",
              "       [0.5373993 ],\n",
              "       [0.5291062 ],\n",
              "       [0.36907732],\n",
              "       [0.3721831 ],\n",
              "       [0.76975715],\n",
              "       [0.19028175],\n",
              "       [0.3261532 ],\n",
              "       [0.2532294 ],\n",
              "       [0.12148654],\n",
              "       [0.4847634 ],\n",
              "       [0.46486688],\n",
              "       [0.29633832],\n",
              "       [0.09567985],\n",
              "       [0.1462326 ],\n",
              "       [0.13792029],\n",
              "       [0.7553917 ],\n",
              "       [0.2925374 ],\n",
              "       [0.5776411 ],\n",
              "       [0.3222533 ],\n",
              "       [0.159361  ],\n",
              "       [0.171956  ],\n",
              "       [0.26635996],\n",
              "       [0.7792244 ],\n",
              "       [0.68835825],\n",
              "       [0.4640394 ],\n",
              "       [0.19138783],\n",
              "       [0.06667152],\n",
              "       [0.6815616 ],\n",
              "       [0.44341058],\n",
              "       [0.34960678],\n",
              "       [0.84655964],\n",
              "       [0.79190934],\n",
              "       [0.20874608],\n",
              "       [0.25179213],\n",
              "       [0.11156946],\n",
              "       [0.18811181],\n",
              "       [0.52498806],\n",
              "       [0.11228204],\n",
              "       [0.40541914],\n",
              "       [0.37039733],\n",
              "       [0.40453964],\n",
              "       [0.08287141],\n",
              "       [0.06782979],\n",
              "       [0.19276655],\n",
              "       [0.31319183],\n",
              "       [0.04669601],\n",
              "       [0.688505  ],\n",
              "       [0.96474427],\n",
              "       [0.34133646],\n",
              "       [0.8249629 ],\n",
              "       [0.3787831 ],\n",
              "       [0.13610366],\n",
              "       [0.23235828],\n",
              "       [0.24562556],\n",
              "       [0.17842162],\n",
              "       [0.63366747],\n",
              "       [0.83869267],\n",
              "       [0.17827803],\n",
              "       [0.46548748],\n",
              "       [0.4620099 ],\n",
              "       [0.22589377],\n",
              "       [0.21844685],\n",
              "       [0.53982514],\n",
              "       [0.2583958 ],\n",
              "       [0.23309281],\n",
              "       [0.47054845],\n",
              "       [0.12686676],\n",
              "       [0.08906576],\n",
              "       [0.27946907],\n",
              "       [0.10643464],\n",
              "       [0.6562564 ],\n",
              "       [0.3041632 ],\n",
              "       [0.3238954 ],\n",
              "       [0.15375873],\n",
              "       [0.2782228 ],\n",
              "       [0.05990562],\n",
              "       [0.7504653 ],\n",
              "       [0.31085807],\n",
              "       [0.08610937],\n",
              "       [0.3424108 ],\n",
              "       [0.15298551],\n",
              "       [0.08313018],\n",
              "       [0.18964952],\n",
              "       [0.6373487 ],\n",
              "       [0.34827837],\n",
              "       [0.9178132 ],\n",
              "       [0.19864497],\n",
              "       [0.51084775],\n",
              "       [0.27498633],\n",
              "       [0.45920762],\n",
              "       [0.06096324],\n",
              "       [0.37786838],\n",
              "       [0.08611548],\n",
              "       [0.6578505 ],\n",
              "       [0.86324394],\n",
              "       [0.33184892],\n",
              "       [0.39985445],\n",
              "       [0.93476534],\n",
              "       [0.3448213 ],\n",
              "       [0.29866764],\n",
              "       [0.719326  ],\n",
              "       [0.1752148 ],\n",
              "       [0.64948195],\n",
              "       [0.19185999],\n",
              "       [0.39432696],\n",
              "       [0.65836155],\n",
              "       [0.1845758 ],\n",
              "       [0.3888289 ],\n",
              "       [0.43858775],\n",
              "       [0.14034984],\n",
              "       [0.6474482 ],\n",
              "       [0.64937466],\n",
              "       [0.6844924 ],\n",
              "       [0.0916549 ],\n",
              "       [0.7970419 ],\n",
              "       [0.67343426],\n",
              "       [0.33725458],\n",
              "       [0.4408268 ],\n",
              "       [0.687109  ],\n",
              "       [0.2895544 ],\n",
              "       [0.44204402],\n",
              "       [0.13468057],\n",
              "       [0.34389246],\n",
              "       [0.58517325],\n",
              "       [0.40084064],\n",
              "       [0.12634283],\n",
              "       [0.50502944],\n",
              "       [0.328834  ],\n",
              "       [0.61615944],\n",
              "       [0.9531343 ],\n",
              "       [0.34324616],\n",
              "       [0.8109888 ],\n",
              "       [0.24129954],\n",
              "       [0.349755  ],\n",
              "       [0.6599905 ],\n",
              "       [0.3511269 ],\n",
              "       [0.9202086 ],\n",
              "       [0.8163658 ],\n",
              "       [0.457742  ],\n",
              "       [0.318965  ],\n",
              "       [0.1173974 ],\n",
              "       [0.39951637],\n",
              "       [0.68555033],\n",
              "       [0.24447599],\n",
              "       [0.3889107 ],\n",
              "       [0.13724181],\n",
              "       [0.0502992 ],\n",
              "       [0.76455283],\n",
              "       [0.21970695],\n",
              "       [0.18305644],\n",
              "       [0.2082873 ],\n",
              "       [0.1393264 ],\n",
              "       [0.18449342],\n",
              "       [0.85589206],\n",
              "       [0.15448499],\n",
              "       [0.28554907],\n",
              "       [0.7100538 ],\n",
              "       [0.9811455 ],\n",
              "       [0.22590345],\n",
              "       [0.7686837 ],\n",
              "       [0.24745795],\n",
              "       [0.2619411 ],\n",
              "       [0.26860636],\n",
              "       [0.18425342],\n",
              "       [0.32889867],\n",
              "       [0.08809385],\n",
              "       [0.07056159],\n",
              "       [0.2809181 ],\n",
              "       [0.66237897],\n",
              "       [0.39130986],\n",
              "       [0.20739412],\n",
              "       [0.16538855],\n",
              "       [0.29785478],\n",
              "       [0.8171093 ],\n",
              "       [0.7502891 ],\n",
              "       [0.17979431],\n",
              "       [0.47832268],\n",
              "       [0.20473042],\n",
              "       [0.5868378 ],\n",
              "       [0.0682418 ],\n",
              "       [0.01552564],\n",
              "       [0.06961474],\n",
              "       [0.38111466],\n",
              "       [0.22439596],\n",
              "       [0.4067044 ],\n",
              "       [0.5973966 ],\n",
              "       [0.4108761 ],\n",
              "       [0.4415357 ],\n",
              "       [0.17697245],\n",
              "       [0.6077428 ],\n",
              "       [0.6277789 ],\n",
              "       [0.21096385],\n",
              "       [0.6299014 ],\n",
              "       [0.10500026],\n",
              "       [0.16006103],\n",
              "       [0.07787159],\n",
              "       [0.6333791 ],\n",
              "       [0.10937706],\n",
              "       [0.7761725 ],\n",
              "       [0.6541511 ],\n",
              "       [0.51534086],\n",
              "       [0.4305408 ],\n",
              "       [0.07649058],\n",
              "       [0.8205056 ],\n",
              "       [0.2814378 ],\n",
              "       [0.18364176],\n",
              "       [0.46145377],\n",
              "       [0.15113714],\n",
              "       [0.06316668],\n",
              "       [0.6595959 ],\n",
              "       [0.38587016],\n",
              "       [0.5158254 ],\n",
              "       [0.21460328],\n",
              "       [0.13672173],\n",
              "       [0.4653465 ]], dtype=float32)"
            ]
          },
          "metadata": {
            "tags": []
          },
          "execution_count": 19
        }
      ]
    },
    {
      "cell_type": "code",
      "metadata": {
        "colab": {
          "base_uri": "https://localhost:8080/"
        },
        "id": "x35oCrPGpjBW",
        "outputId": "88efae9e-f367-4c22-c46a-020fa9fd4463"
      },
      "source": [
        "pred_train = model.predict_classes(X_train)\n",
        "pred_test = model.predict_classes(X_test)"
      ],
      "execution_count": null,
      "outputs": [
        {
          "output_type": "stream",
          "text": [
            "/usr/local/lib/python3.7/dist-packages/tensorflow/python/keras/engine/sequential.py:455: UserWarning: `model.predict_classes()` is deprecated and will be removed after 2021-01-01. Please use instead:* `np.argmax(model.predict(x), axis=-1)`,   if your model does multi-class classification   (e.g. if it uses a `softmax` last-layer activation).* `(model.predict(x) > 0.5).astype(\"int32\")`,   if your model does binary classification   (e.g. if it uses a `sigmoid` last-layer activation).\n",
            "  warnings.warn('`model.predict_classes()` is deprecated and '\n"
          ],
          "name": "stderr"
        }
      ]
    },
    {
      "cell_type": "code",
      "metadata": {
        "id": "HWoWLh0wpqnc"
      },
      "source": [
        "pred_train = (model.predict(X_train) > 0.5).astype(\"int32\")\n",
        "pred_test = (model.predict(X_train) > 0.5).astype(\"int32\")"
      ],
      "execution_count": null,
      "outputs": []
    },
    {
      "cell_type": "code",
      "metadata": {
        "colab": {
          "base_uri": "https://localhost:8080/"
        },
        "id": "KssaCIrnqNxh",
        "outputId": "12de536c-f7a5-4f11-c65e-134372f6f3f1"
      },
      "source": [
        "print('\\n\\n', \n",
        "      classification_report(y_train, pred_train,\n",
        "                            target_names=['normal', 'diabetes']))"
      ],
      "execution_count": null,
      "outputs": [
        {
          "output_type": "stream",
          "text": [
            "\n",
            "\n",
            "               precision    recall  f1-score   support\n",
            "\n",
            "      normal       0.82      0.89      0.85       343\n",
            "    diabetes       0.73      0.60      0.66       171\n",
            "\n",
            "    accuracy                           0.79       514\n",
            "   macro avg       0.77      0.74      0.76       514\n",
            "weighted avg       0.79      0.79      0.79       514\n",
            "\n"
          ],
          "name": "stdout"
        }
      ]
    }
  ]
}