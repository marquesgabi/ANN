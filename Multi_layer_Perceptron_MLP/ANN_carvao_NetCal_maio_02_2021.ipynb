{
  "nbformat": 4,
  "nbformat_minor": 0,
  "metadata": {
    "kernelspec": {
      "display_name": "Python 3",
      "language": "python",
      "name": "python3"
    },
    "language_info": {
      "codemirror_mode": {
        "name": "ipython",
        "version": 3
      },
      "file_extension": ".py",
      "mimetype": "text/x-python",
      "name": "python",
      "nbconvert_exporter": "python",
      "pygments_lexer": "ipython3",
      "version": "3.5.4"
    },
    "colab": {
      "name": "ANN_carvao_NetCal_maio_02_2021.ipynb",
      "provenance": [],
      "include_colab_link": true
    }
  },
  "cells": [
    {
      "cell_type": "markdown",
      "metadata": {
        "id": "view-in-github",
        "colab_type": "text"
      },
      "source": [
        "<a href=\"https://colab.research.google.com/github/ucfilho/ANN/blob/master/Multi_layer_Perceptron_MLP/ANN_carvao_NetCal_maio_02_2021.ipynb\" target=\"_parent\"><img src=\"https://colab.research.google.com/assets/colab-badge.svg\" alt=\"Open In Colab\"/></a>"
      ]
    },
    {
      "cell_type": "code",
      "metadata": {
        "id": "cF6kzanWQZgh"
      },
      "source": [
        "# bibliotecas usadas\n",
        "import numpy as np\n",
        "import pandas as pd\n",
        "import matplotlib.pyplot as plt\n",
        "from sklearn.neural_network import MLPRegressor\n",
        "from sklearn.model_selection import train_test_split\n",
        "from sklearn.metrics import mean_squared_error\n",
        "from sklearn import preprocessing\n",
        "from sklearn.metrics import r2_score \n"
      ],
      "execution_count": 1,
      "outputs": []
    },
    {
      "cell_type": "code",
      "metadata": {
        "id": "UW1APYrFQZgl"
      },
      "source": [
        "# para gerar o grafico no browser\n",
        "%matplotlib inline"
      ],
      "execution_count": 2,
      "outputs": []
    },
    {
      "cell_type": "code",
      "metadata": {
        "id": "xDrq_-S8QZgn",
        "colab": {
          "base_uri": "https://localhost:8080/"
        },
        "outputId": "4ef0de54-968b-4c95-ef5b-e19811c77f7a"
      },
      "source": [
        "!git clone https://github.com/ucfilho/ANN_2021_01/\n",
        "%cd ANN_2021_01"
      ],
      "execution_count": 3,
      "outputs": [
        {
          "output_type": "stream",
          "text": [
            "fatal: destination path 'ANN_2021_01' already exists and is not an empty directory.\n",
            "/content/ANN_2021_01\n"
          ],
          "name": "stdout"
        }
      ]
    },
    {
      "cell_type": "code",
      "metadata": {
        "id": "poo2kvF6QZgo",
        "colab": {
          "base_uri": "https://localhost:8080/"
        },
        "outputId": "d0dcab38-9fac-4bdd-c833-cb975870bd65"
      },
      "source": [
        "# leitura dos dados\n",
        "df=pd.read_csv(\"Paper_Carvao_China_abril_12_2016.csv\")\n",
        "print(df.head())"
      ],
      "execution_count": 4,
      "outputs": [
        {
          "output_type": "stream",
          "text": [
            "   Unnamed: 0 Cod  Water    Ash  Volatil  ...  Nitro  Sulfur  Oxygen   TC     Ea\n",
            "0           1  LL   4.19  19.45    33.19  ...   1.02    4.38    7.66  435  170.1\n",
            "1           2  YY   1.06  20.46    31.53  ...   1.38    0.74    7.51  451  206.6\n",
            "2           3  SF   6.60   9.56    31.49  ...   0.95    0.38   12.56  431  273.5\n",
            "3           4  YM   9.47  14.19    30.02  ...   0.83    0.44   13.71  403  160.8\n",
            "4           5  ZZ   1.84  18.10    29.43  ...   1.22    0.88    8.02  466  228.4\n",
            "\n",
            "[5 rows x 14 columns]\n"
          ],
          "name": "stdout"
        }
      ]
    },
    {
      "cell_type": "code",
      "metadata": {
        "colab": {
          "base_uri": "https://localhost:8080/",
          "height": 138
        },
        "id": "7eQzdB0ucsLP",
        "outputId": "9af48aaf-41fc-49c9-e2c5-e2a463d2c64f"
      },
      "source": [
        "df.head(3)"
      ],
      "execution_count": 5,
      "outputs": [
        {
          "output_type": "execute_result",
          "data": {
            "text/html": [
              "<div>\n",
              "<style scoped>\n",
              "    .dataframe tbody tr th:only-of-type {\n",
              "        vertical-align: middle;\n",
              "    }\n",
              "\n",
              "    .dataframe tbody tr th {\n",
              "        vertical-align: top;\n",
              "    }\n",
              "\n",
              "    .dataframe thead th {\n",
              "        text-align: right;\n",
              "    }\n",
              "</style>\n",
              "<table border=\"1\" class=\"dataframe\">\n",
              "  <thead>\n",
              "    <tr style=\"text-align: right;\">\n",
              "      <th></th>\n",
              "      <th>Unnamed: 0</th>\n",
              "      <th>Cod</th>\n",
              "      <th>Water</th>\n",
              "      <th>Ash</th>\n",
              "      <th>Volatil</th>\n",
              "      <th>FixC</th>\n",
              "      <th>NetCal</th>\n",
              "      <th>Carbon</th>\n",
              "      <th>Hydrog</th>\n",
              "      <th>Nitro</th>\n",
              "      <th>Sulfur</th>\n",
              "      <th>Oxygen</th>\n",
              "      <th>TC</th>\n",
              "      <th>Ea</th>\n",
              "    </tr>\n",
              "  </thead>\n",
              "  <tbody>\n",
              "    <tr>\n",
              "      <th>0</th>\n",
              "      <td>1</td>\n",
              "      <td>LL</td>\n",
              "      <td>4.19</td>\n",
              "      <td>19.45</td>\n",
              "      <td>33.19</td>\n",
              "      <td>43.17</td>\n",
              "      <td>23.91</td>\n",
              "      <td>59.22</td>\n",
              "      <td>4.08</td>\n",
              "      <td>1.02</td>\n",
              "      <td>4.38</td>\n",
              "      <td>7.66</td>\n",
              "      <td>435</td>\n",
              "      <td>170.1</td>\n",
              "    </tr>\n",
              "    <tr>\n",
              "      <th>1</th>\n",
              "      <td>2</td>\n",
              "      <td>YY</td>\n",
              "      <td>1.06</td>\n",
              "      <td>20.46</td>\n",
              "      <td>31.53</td>\n",
              "      <td>46.94</td>\n",
              "      <td>23.91</td>\n",
              "      <td>64.22</td>\n",
              "      <td>4.63</td>\n",
              "      <td>1.38</td>\n",
              "      <td>0.74</td>\n",
              "      <td>7.51</td>\n",
              "      <td>451</td>\n",
              "      <td>206.6</td>\n",
              "    </tr>\n",
              "    <tr>\n",
              "      <th>2</th>\n",
              "      <td>3</td>\n",
              "      <td>SF</td>\n",
              "      <td>6.60</td>\n",
              "      <td>9.56</td>\n",
              "      <td>31.49</td>\n",
              "      <td>52.35</td>\n",
              "      <td>26.22</td>\n",
              "      <td>66.34</td>\n",
              "      <td>3.61</td>\n",
              "      <td>0.95</td>\n",
              "      <td>0.38</td>\n",
              "      <td>12.56</td>\n",
              "      <td>431</td>\n",
              "      <td>273.5</td>\n",
              "    </tr>\n",
              "  </tbody>\n",
              "</table>\n",
              "</div>"
            ],
            "text/plain": [
              "   Unnamed: 0 Cod  Water    Ash  Volatil  ...  Nitro  Sulfur  Oxygen   TC     Ea\n",
              "0           1  LL   4.19  19.45    33.19  ...   1.02    4.38    7.66  435  170.1\n",
              "1           2  YY   1.06  20.46    31.53  ...   1.38    0.74    7.51  451  206.6\n",
              "2           3  SF   6.60   9.56    31.49  ...   0.95    0.38   12.56  431  273.5\n",
              "\n",
              "[3 rows x 14 columns]"
            ]
          },
          "metadata": {
            "tags": []
          },
          "execution_count": 5
        }
      ]
    },
    {
      "cell_type": "code",
      "metadata": {
        "colab": {
          "base_uri": "https://localhost:8080/",
          "height": 138
        },
        "id": "x35V_djsc9LI",
        "outputId": "27c7f729-a8fa-4fe7-f750-9b19fbecea3e"
      },
      "source": [
        "df.tail(3)"
      ],
      "execution_count": 6,
      "outputs": [
        {
          "output_type": "execute_result",
          "data": {
            "text/html": [
              "<div>\n",
              "<style scoped>\n",
              "    .dataframe tbody tr th:only-of-type {\n",
              "        vertical-align: middle;\n",
              "    }\n",
              "\n",
              "    .dataframe tbody tr th {\n",
              "        vertical-align: top;\n",
              "    }\n",
              "\n",
              "    .dataframe thead th {\n",
              "        text-align: right;\n",
              "    }\n",
              "</style>\n",
              "<table border=\"1\" class=\"dataframe\">\n",
              "  <thead>\n",
              "    <tr style=\"text-align: right;\">\n",
              "      <th></th>\n",
              "      <th>Unnamed: 0</th>\n",
              "      <th>Cod</th>\n",
              "      <th>Water</th>\n",
              "      <th>Ash</th>\n",
              "      <th>Volatil</th>\n",
              "      <th>FixC</th>\n",
              "      <th>NetCal</th>\n",
              "      <th>Carbon</th>\n",
              "      <th>Hydrog</th>\n",
              "      <th>Nitro</th>\n",
              "      <th>Sulfur</th>\n",
              "      <th>Oxygen</th>\n",
              "      <th>TC</th>\n",
              "      <th>Ea</th>\n",
              "    </tr>\n",
              "  </thead>\n",
              "  <tbody>\n",
              "    <tr>\n",
              "      <th>61</th>\n",
              "      <td>62</td>\n",
              "      <td>YM4LA4JC2</td>\n",
              "      <td>5.70</td>\n",
              "      <td>16.22</td>\n",
              "      <td>19.05</td>\n",
              "      <td>59.03</td>\n",
              "      <td>25.28</td>\n",
              "      <td>66.86</td>\n",
              "      <td>3.32</td>\n",
              "      <td>1.16</td>\n",
              "      <td>0.39</td>\n",
              "      <td>6.35</td>\n",
              "      <td>408</td>\n",
              "      <td>176.4</td>\n",
              "    </tr>\n",
              "    <tr>\n",
              "      <th>62</th>\n",
              "      <td>63</td>\n",
              "      <td>YY2HN4LQ4</td>\n",
              "      <td>2.02</td>\n",
              "      <td>20.02</td>\n",
              "      <td>19.57</td>\n",
              "      <td>58.40</td>\n",
              "      <td>25.26</td>\n",
              "      <td>66.78</td>\n",
              "      <td>3.62</td>\n",
              "      <td>1.17</td>\n",
              "      <td>0.54</td>\n",
              "      <td>5.85</td>\n",
              "      <td>475</td>\n",
              "      <td>252.4</td>\n",
              "    </tr>\n",
              "    <tr>\n",
              "      <th>63</th>\n",
              "      <td>64</td>\n",
              "      <td>YY2PX2LA6</td>\n",
              "      <td>2.05</td>\n",
              "      <td>19.30</td>\n",
              "      <td>17.23</td>\n",
              "      <td>61.42</td>\n",
              "      <td>26.70</td>\n",
              "      <td>68.15</td>\n",
              "      <td>3.50</td>\n",
              "      <td>1.23</td>\n",
              "      <td>0.62</td>\n",
              "      <td>5.15</td>\n",
              "      <td>481</td>\n",
              "      <td>256.0</td>\n",
              "    </tr>\n",
              "  </tbody>\n",
              "</table>\n",
              "</div>"
            ],
            "text/plain": [
              "    Unnamed: 0        Cod  Water    Ash  ...  Sulfur  Oxygen   TC     Ea\n",
              "61          62  YM4LA4JC2   5.70  16.22  ...    0.39    6.35  408  176.4\n",
              "62          63  YY2HN4LQ4   2.02  20.02  ...    0.54    5.85  475  252.4\n",
              "63          64  YY2PX2LA6   2.05  19.30  ...    0.62    5.15  481  256.0\n",
              "\n",
              "[3 rows x 14 columns]"
            ]
          },
          "metadata": {
            "tags": []
          },
          "execution_count": 6
        }
      ]
    },
    {
      "cell_type": "code",
      "metadata": {
        "id": "w1dEftL7brsj"
      },
      "source": [
        "Dat_Select=df.iloc[:,2:]"
      ],
      "execution_count": 7,
      "outputs": []
    },
    {
      "cell_type": "code",
      "metadata": {
        "colab": {
          "base_uri": "https://localhost:8080/",
          "height": 138
        },
        "id": "3ZSJRIGzfBse",
        "outputId": "405d78d2-17c5-4722-f93d-2cff04cd0f0d"
      },
      "source": [
        "Dat_Select.head(3)"
      ],
      "execution_count": 8,
      "outputs": [
        {
          "output_type": "execute_result",
          "data": {
            "text/html": [
              "<div>\n",
              "<style scoped>\n",
              "    .dataframe tbody tr th:only-of-type {\n",
              "        vertical-align: middle;\n",
              "    }\n",
              "\n",
              "    .dataframe tbody tr th {\n",
              "        vertical-align: top;\n",
              "    }\n",
              "\n",
              "    .dataframe thead th {\n",
              "        text-align: right;\n",
              "    }\n",
              "</style>\n",
              "<table border=\"1\" class=\"dataframe\">\n",
              "  <thead>\n",
              "    <tr style=\"text-align: right;\">\n",
              "      <th></th>\n",
              "      <th>Water</th>\n",
              "      <th>Ash</th>\n",
              "      <th>Volatil</th>\n",
              "      <th>FixC</th>\n",
              "      <th>NetCal</th>\n",
              "      <th>Carbon</th>\n",
              "      <th>Hydrog</th>\n",
              "      <th>Nitro</th>\n",
              "      <th>Sulfur</th>\n",
              "      <th>Oxygen</th>\n",
              "      <th>TC</th>\n",
              "      <th>Ea</th>\n",
              "    </tr>\n",
              "  </thead>\n",
              "  <tbody>\n",
              "    <tr>\n",
              "      <th>0</th>\n",
              "      <td>4.19</td>\n",
              "      <td>19.45</td>\n",
              "      <td>33.19</td>\n",
              "      <td>43.17</td>\n",
              "      <td>23.91</td>\n",
              "      <td>59.22</td>\n",
              "      <td>4.08</td>\n",
              "      <td>1.02</td>\n",
              "      <td>4.38</td>\n",
              "      <td>7.66</td>\n",
              "      <td>435</td>\n",
              "      <td>170.1</td>\n",
              "    </tr>\n",
              "    <tr>\n",
              "      <th>1</th>\n",
              "      <td>1.06</td>\n",
              "      <td>20.46</td>\n",
              "      <td>31.53</td>\n",
              "      <td>46.94</td>\n",
              "      <td>23.91</td>\n",
              "      <td>64.22</td>\n",
              "      <td>4.63</td>\n",
              "      <td>1.38</td>\n",
              "      <td>0.74</td>\n",
              "      <td>7.51</td>\n",
              "      <td>451</td>\n",
              "      <td>206.6</td>\n",
              "    </tr>\n",
              "    <tr>\n",
              "      <th>2</th>\n",
              "      <td>6.60</td>\n",
              "      <td>9.56</td>\n",
              "      <td>31.49</td>\n",
              "      <td>52.35</td>\n",
              "      <td>26.22</td>\n",
              "      <td>66.34</td>\n",
              "      <td>3.61</td>\n",
              "      <td>0.95</td>\n",
              "      <td>0.38</td>\n",
              "      <td>12.56</td>\n",
              "      <td>431</td>\n",
              "      <td>273.5</td>\n",
              "    </tr>\n",
              "  </tbody>\n",
              "</table>\n",
              "</div>"
            ],
            "text/plain": [
              "   Water    Ash  Volatil   FixC  NetCal  ...  Nitro  Sulfur  Oxygen   TC     Ea\n",
              "0   4.19  19.45    33.19  43.17   23.91  ...   1.02    4.38    7.66  435  170.1\n",
              "1   1.06  20.46    31.53  46.94   23.91  ...   1.38    0.74    7.51  451  206.6\n",
              "2   6.60   9.56    31.49  52.35   26.22  ...   0.95    0.38   12.56  431  273.5\n",
              "\n",
              "[3 rows x 12 columns]"
            ]
          },
          "metadata": {
            "tags": []
          },
          "execution_count": 8
        }
      ]
    },
    {
      "cell_type": "code",
      "metadata": {
        "id": "FEvCqRGUQZgr",
        "colab": {
          "base_uri": "https://localhost:8080/"
        },
        "outputId": "0148c1fb-cc52-482c-dd9d-f5986127b84a"
      },
      "source": [
        "# separa as colunas de interesse\n",
        "\n",
        "Index=[2,3,4,5]\n",
        "X=df.iloc[:,Index].copy()\n",
        "print(X.head())\n"
      ],
      "execution_count": 9,
      "outputs": [
        {
          "output_type": "stream",
          "text": [
            "   Water    Ash  Volatil   FixC\n",
            "0   4.19  19.45    33.19  43.17\n",
            "1   1.06  20.46    31.53  46.94\n",
            "2   6.60   9.56    31.49  52.35\n",
            "3   9.47  14.19    30.02  46.32\n",
            "4   1.84  18.10    29.43  50.63\n"
          ],
          "name": "stdout"
        }
      ]
    },
    {
      "cell_type": "code",
      "metadata": {
        "id": "o_DGNriMXA5E"
      },
      "source": [
        "Index=[ 'NetCal']\n",
        "y =df[Index]"
      ],
      "execution_count": 10,
      "outputs": []
    },
    {
      "cell_type": "code",
      "metadata": {
        "id": "9_In7Roxklf-"
      },
      "source": [
        "X_train, X_test, y_train, y_test = train_test_split(X,y,test_size=0.10, shuffle=True, random_state=3)# 1"
      ],
      "execution_count": 11,
      "outputs": []
    },
    {
      "cell_type": "code",
      "metadata": {
        "id": "W1D-K3kZfdKC"
      },
      "source": [
        "scaler_X = preprocessing.MinMaxScaler((-1,1)).fit(X)\n",
        "scaler_Y = preprocessing.MinMaxScaler((-1,1)).fit(y)"
      ],
      "execution_count": 12,
      "outputs": []
    },
    {
      "cell_type": "code",
      "metadata": {
        "id": "a7xdJHoKhCUA"
      },
      "source": [
        "X_train = scaler_X.transform(X_train)\n",
        "X_test = scaler_X.transform(X_test)\n",
        "y_train = scaler_Y.transform(y_train)\n",
        "y_test = scaler_Y.transform(y_test)"
      ],
      "execution_count": 13,
      "outputs": []
    },
    {
      "cell_type": "code",
      "metadata": {
        "id": "BpNn_IogQZgt"
      },
      "source": [
        "# define a rede neural \n",
        "\n",
        "N_Hidden=20\n",
        "model = MLPRegressor(solver='lbfgs',activation='tanh',alpha=1e-5,hidden_layer_sizes=(N_Hidden), max_iter=1500,random_state=11 )"
      ],
      "execution_count": 14,
      "outputs": []
    },
    {
      "cell_type": "code",
      "metadata": {
        "id": "Y8BteMytQZgu",
        "colab": {
          "base_uri": "https://localhost:8080/"
        },
        "outputId": "0f989162-aeca-49f1-9af2-4b79832a5a57"
      },
      "source": [
        "# treina a rede neural\n",
        "model.fit(X_train, y_train)"
      ],
      "execution_count": 15,
      "outputs": [
        {
          "output_type": "stream",
          "text": [
            "/usr/local/lib/python3.7/dist-packages/sklearn/neural_network/_multilayer_perceptron.py:1342: DataConversionWarning: A column-vector y was passed when a 1d array was expected. Please change the shape of y to (n_samples, ), for example using ravel().\n",
            "  y = column_or_1d(y, warn=True)\n"
          ],
          "name": "stderr"
        },
        {
          "output_type": "execute_result",
          "data": {
            "text/plain": [
              "MLPRegressor(activation='tanh', alpha=1e-05, batch_size='auto', beta_1=0.9,\n",
              "             beta_2=0.999, early_stopping=False, epsilon=1e-08,\n",
              "             hidden_layer_sizes=20, learning_rate='constant',\n",
              "             learning_rate_init=0.001, max_fun=15000, max_iter=1500,\n",
              "             momentum=0.9, n_iter_no_change=10, nesterovs_momentum=True,\n",
              "             power_t=0.5, random_state=11, shuffle=True, solver='lbfgs',\n",
              "             tol=0.0001, validation_fraction=0.1, verbose=False,\n",
              "             warm_start=False)"
            ]
          },
          "metadata": {
            "tags": []
          },
          "execution_count": 15
        }
      ]
    },
    {
      "cell_type": "code",
      "metadata": {
        "id": "smaQ8uSGQZgv"
      },
      "source": [
        "# usa a rede neural treina em calculos para treino e teste\n",
        "y_calc_train=model.predict(X_train)\n",
        "y_calc_test=model.predict(X_test)"
      ],
      "execution_count": 16,
      "outputs": []
    },
    {
      "cell_type": "code",
      "metadata": {
        "id": "aVJXbUosQZgw"
      },
      "source": [
        "# transforma dos dados calculados na forma original (nao normatizado)\n",
        "y_obs_train=scaler_Y.inverse_transform(np.array(y_train).reshape(-1,1))\n",
        "y_obs_test=scaler_Y.inverse_transform(np.array(y_test).reshape(-1,1))\n",
        "y_calc_train=scaler_Y.inverse_transform(y_calc_train.reshape(-1,1))\n",
        "y_calc_test=scaler_Y.inverse_transform(y_calc_test.reshape(-1,1))"
      ],
      "execution_count": 17,
      "outputs": []
    },
    {
      "cell_type": "code",
      "metadata": {
        "colab": {
          "base_uri": "https://localhost:8080/"
        },
        "id": "mOnXxDRMX4e8",
        "outputId": "247f0dc5-1e45-4f73-8464-552d71a01d36"
      },
      "source": [
        "print(pd.DataFrame({'test calc':y_calc_test.ravel(),'test true':y_obs_test.ravel()}))"
      ],
      "execution_count": 18,
      "outputs": [
        {
          "output_type": "stream",
          "text": [
            "   test calc  test true\n",
            "0  16.316625      19.02\n",
            "1  22.964869      22.44\n",
            "2  24.651866      24.97\n",
            "3  25.622517      26.11\n",
            "4  23.760665      23.82\n",
            "5  24.783789      24.89\n",
            "6  23.826373      23.86\n"
          ],
          "name": "stdout"
        }
      ]
    },
    {
      "cell_type": "code",
      "metadata": {
        "id": "RZrkRZ3GQZgz",
        "colab": {
          "base_uri": "https://localhost:8080/",
          "height": 283
        },
        "outputId": "3404fa10-5912-4486-f040-f2b4039172cb"
      },
      "source": [
        "# expressa os dois dados em figura\n",
        "fig = plt.figure()\n",
        "ax1 = fig.add_subplot(111)\n",
        "ax1.scatter(y_obs_test,y_calc_test, s=10, c='b', marker=\"s\", label='teste')\n",
        "ax1.scatter(y_obs_train,y_calc_train, s=10, c='r', marker=\"o\", label='treino')\n",
        "plt.legend(loc='upper left')\n",
        "plt.xlim([15,30])\n",
        "plt.ylim([15,30])\n",
        "plt.ylabel('NetCal Calc')\n",
        "plt.xlabel('NetCal Obs')\n",
        "plt.show()"
      ],
      "execution_count": 19,
      "outputs": [
        {
          "output_type": "display_data",
          "data": {
            "image/png": "[encoded data removed]",
            "text/plain": [
              "<Figure size 432x288 with 1 Axes>"
            ]
          },
          "metadata": {
            "tags": [],
            "needs_background": "light"
          }
        }
      ]
    },
    {
      "cell_type": "code",
      "metadata": {
        "id": "aj_XteG2QZg0",
        "colab": {
          "base_uri": "https://localhost:8080/"
        },
        "outputId": "0085fb24-afd4-4c3a-8e56-095939fd380a"
      },
      "source": [
        "mse=mean_squared_error(y_obs_test,y_calc_test)\n",
        "print(\"MSE teste=\",mse)\n",
        "R2=r2_score(y_obs_test,y_calc_test)\n",
        "print(\"R^2 teste=\",R2)"
      ],
      "execution_count": 20,
      "outputs": [
        {
          "output_type": "stream",
          "text": [
            "MSE teste= 1.1340722050309884\n",
            "R^2 teste= 0.7540578880645675\n"
          ],
          "name": "stdout"
        }
      ]
    },
    {
      "cell_type": "code",
      "metadata": {
        "id": "efLwFnUqQZg1",
        "colab": {
          "base_uri": "https://localhost:8080/"
        },
        "outputId": "d4fbdd9f-0db0-400c-e795-e606b8c3fa3b"
      },
      "source": [
        "mse=mean_squared_error(y_obs_train,y_calc_train)\n",
        "print(\"MSE treino=\",mse)\n",
        "R2=r2_score(y_obs_train,y_calc_train)\n",
        "print(\"R^2 treino=\",R2)"
      ],
      "execution_count": 21,
      "outputs": [
        {
          "output_type": "stream",
          "text": [
            "MSE treino= 0.07636334498334209\n",
            "R^2 treino= 0.9851812324530775\n"
          ],
          "name": "stdout"
        }
      ]
    }
  ]
}