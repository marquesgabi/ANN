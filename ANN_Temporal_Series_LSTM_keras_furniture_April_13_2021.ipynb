{
  "nbformat": 4,
  "nbformat_minor": 0,
  "metadata": {
    "colab": {
      "name": "ANN_Temporal_Series_LSTM_keras_furniture_April_13_2021.ipynb",
      "provenance": [],
      "include_colab_link": true
    },
    "kernelspec": {
      "name": "python3",
      "display_name": "Python 3"
    },
    "language_info": {
      "name": "python"
    }
  },
  "cells": [
    {
      "cell_type": "markdown",
      "metadata": {
        "id": "view-in-github",
        "colab_type": "text"
      },
      "source": [
        "<a href=\"https://colab.research.google.com/github/ucfilho/ANN/blob/master/ANN_Temporal_Series_LSTM_keras_furniture_April_13_2021.ipynb\" target=\"_parent\"><img src=\"https://colab.research.google.com/assets/colab-badge.svg\" alt=\"Open In Colab\"/></a>"
      ]
    },
    {
      "cell_type": "code",
      "metadata": {
        "id": "G6_52vHnr34h"
      },
      "source": [
        "import pandas as pd\n",
        "import numpy as np\n",
        "import matplotlib.pyplot as plt\n",
        "from sklearn.metrics import mean_squared_error\n",
        "from sklearn.metrics import r2_score"
      ],
      "execution_count": 1,
      "outputs": []
    },
    {
      "cell_type": "code",
      "metadata": {
        "id": "cLrGBbRs-cRd"
      },
      "source": [
        "from sklearn.preprocessing import StandardScaler, MinMaxScaler\n",
        "mm = MinMaxScaler()\n",
        "ss = StandardScaler()"
      ],
      "execution_count": 2,
      "outputs": []
    },
    {
      "cell_type": "code",
      "metadata": {
        "id": "d7MsJQI2mdaz"
      },
      "source": [
        "import torch #pytorch\n",
        "import torch.nn as nn\n",
        "from torch.autograd import Variable "
      ],
      "execution_count": 3,
      "outputs": []
    },
    {
      "cell_type": "code",
      "metadata": {
        "colab": {
          "base_uri": "https://localhost:8080/"
        },
        "id": "HOWF51hxrhhP",
        "outputId": "437cee40-0c8e-4384-a4d9-35312f6153cd"
      },
      "source": [
        " #clonar do Github\n",
        "!git clone https://github.com/OpenMindPB/Data\n",
        "%cd Data"
      ],
      "execution_count": 4,
      "outputs": [
        {
          "output_type": "stream",
          "text": [
            "fatal: destination path 'Data' already exists and is not an empty directory.\n",
            "/content/Data\n"
          ],
          "name": "stdout"
        }
      ]
    },
    {
      "cell_type": "code",
      "metadata": {
        "colab": {
          "base_uri": "https://localhost:8080/"
        },
        "id": "j6Lc6V7EroT-",
        "outputId": "78e10973-c2cc-4542-b14a-104bb1896844"
      },
      "source": [
        "df = pd.read_excel(\"Superstore.xls\")\n",
        "print(df.head(3)) # shows headers with top 3 rows"
      ],
      "execution_count": 5,
      "outputs": [
        {
          "output_type": "stream",
          "text": [
            "   Row ID        Order ID Order Date  ... Quantity Discount    Profit\n",
            "0       1  CA-2016-152156 2016-11-08  ...        2      0.0   41.9136\n",
            "1       2  CA-2016-152156 2016-11-08  ...        3      0.0  219.5820\n",
            "2       3  CA-2016-138688 2016-06-12  ...        2      0.0    6.8714\n",
            "\n",
            "[3 rows x 21 columns]\n"
          ],
          "name": "stdout"
        }
      ]
    },
    {
      "cell_type": "code",
      "metadata": {
        "id": "RUhuWR_Ltcmd",
        "colab": {
          "base_uri": "https://localhost:8080/"
        },
        "outputId": "befca40c-5bcc-41df-8b91-cd78f06a4a0b"
      },
      "source": [
        "Names =df['Category'].drop_duplicates()\n",
        "print(Names)"
      ],
      "execution_count": 6,
      "outputs": [
        {
          "output_type": "stream",
          "text": [
            "0          Furniture\n",
            "2    Office Supplies\n",
            "7         Technology\n",
            "Name: Category, dtype: object\n"
          ],
          "name": "stdout"
        }
      ]
    },
    {
      "cell_type": "code",
      "metadata": {
        "id": "ZKiAEGAN1pjb",
        "colab": {
          "base_uri": "https://localhost:8080/"
        },
        "outputId": "7c4a8c7d-49a8-4fad-e66c-c3ddea96adb2"
      },
      "source": [
        "Stuff =df['Sub-Category'].drop_duplicates()\n",
        "print(Stuff)"
      ],
      "execution_count": 7,
      "outputs": [
        {
          "output_type": "stream",
          "text": [
            "0        Bookcases\n",
            "1           Chairs\n",
            "2           Labels\n",
            "3           Tables\n",
            "4          Storage\n",
            "5      Furnishings\n",
            "6              Art\n",
            "7           Phones\n",
            "8          Binders\n",
            "9       Appliances\n",
            "12           Paper\n",
            "26     Accessories\n",
            "30       Envelopes\n",
            "53       Fasteners\n",
            "138       Supplies\n",
            "165       Machines\n",
            "335        Copiers\n",
            "Name: Sub-Category, dtype: object\n"
          ],
          "name": "stdout"
        }
      ]
    },
    {
      "cell_type": "code",
      "metadata": {
        "id": "PsiQSIt-8Mbo"
      },
      "source": [
        "furniture = df.loc[df['Category'] == 'Furniture']\n",
        "furniture = furniture.groupby('Order Date')['Sales'].sum().reset_index()\n",
        "furniture = furniture.set_index('Order Date')\n",
        "y = furniture['Sales'].resample('MS').mean()\n",
        "names = y.index\n",
        "y = y.reset_index()"
      ],
      "execution_count": 8,
      "outputs": []
    },
    {
      "cell_type": "code",
      "metadata": {
        "id": "Ji1RGaij2Wpi"
      },
      "source": [
        "import datetime\n",
        "months = []\n",
        "for i in names:\n",
        "  months.append(i.month)"
      ],
      "execution_count": 9,
      "outputs": []
    },
    {
      "cell_type": "code",
      "metadata": {
        "id": "kT2TQuap-Pdw",
        "colab": {
          "base_uri": "https://localhost:8080/"
        },
        "outputId": "727c7c07-e6e2-444b-cfa3-210a813c7c4b"
      },
      "source": [
        "len(y)"
      ],
      "execution_count": 10,
      "outputs": [
        {
          "output_type": "execute_result",
          "data": {
            "text/plain": [
              "48"
            ]
          },
          "metadata": {
            "tags": []
          },
          "execution_count": 10
        }
      ]
    },
    {
      "cell_type": "code",
      "metadata": {
        "id": "-4Ge4lcx_Kw1"
      },
      "source": [
        "y1 = y.shift(1).values[:,1]\n",
        "y2 = y.shift(2).values[:,1]\n",
        "y3 = y.shift(3).values[:,1]\n",
        "y = y.values[:,1]"
      ],
      "execution_count": 11,
      "outputs": []
    },
    {
      "cell_type": "code",
      "metadata": {
        "id": "suYwM6Ux-DC4"
      },
      "source": [
        "dataframe = pd.DataFrame({'mo':months,'t-1':y1,'t-2':y2,'t-3':y3,'y':y})\n",
        "dataframe = dataframe.dropna()"
      ],
      "execution_count": 12,
      "outputs": []
    },
    {
      "cell_type": "code",
      "metadata": {
        "id": "zaOzv0Tp46Tr",
        "colab": {
          "base_uri": "https://localhost:8080/",
          "height": 136
        },
        "outputId": "ddb7fd4f-5b8f-4fc3-a26b-711b70c29790"
      },
      "source": [
        "pd.set_option(\"max_columns\", None)\n",
        "pd.set_option(\"max_rows\", None)\n",
        "dataframe.head(3)"
      ],
      "execution_count": 13,
      "outputs": [
        {
          "output_type": "execute_result",
          "data": {
            "text/html": [
              "<div>\n",
              "<style scoped>\n",
              "    .dataframe tbody tr th:only-of-type {\n",
              "        vertical-align: middle;\n",
              "    }\n",
              "\n",
              "    .dataframe tbody tr th {\n",
              "        vertical-align: top;\n",
              "    }\n",
              "\n",
              "    .dataframe thead th {\n",
              "        text-align: right;\n",
              "    }\n",
              "</style>\n",
              "<table border=\"1\" class=\"dataframe\">\n",
              "  <thead>\n",
              "    <tr style=\"text-align: right;\">\n",
              "      <th></th>\n",
              "      <th>mo</th>\n",
              "      <th>t-1</th>\n",
              "      <th>t-2</th>\n",
              "      <th>t-3</th>\n",
              "      <th>y</th>\n",
              "    </tr>\n",
              "  </thead>\n",
              "  <tbody>\n",
              "    <tr>\n",
              "      <th>3</th>\n",
              "      <td>4</td>\n",
              "      <td>857.292</td>\n",
              "      <td>367.932</td>\n",
              "      <td>480.194</td>\n",
              "      <td>567.488</td>\n",
              "    </tr>\n",
              "    <tr>\n",
              "      <th>4</th>\n",
              "      <td>5</td>\n",
              "      <td>567.488</td>\n",
              "      <td>857.292</td>\n",
              "      <td>367.932</td>\n",
              "      <td>432.049</td>\n",
              "    </tr>\n",
              "    <tr>\n",
              "      <th>5</th>\n",
              "      <td>6</td>\n",
              "      <td>432.049</td>\n",
              "      <td>567.488</td>\n",
              "      <td>857.292</td>\n",
              "      <td>695.059</td>\n",
              "    </tr>\n",
              "  </tbody>\n",
              "</table>\n",
              "</div>"
            ],
            "text/plain": [
              "   mo      t-1      t-2      t-3        y\n",
              "3   4  857.292  367.932  480.194  567.488\n",
              "4   5  567.488  857.292  367.932  432.049\n",
              "5   6  432.049  567.488  857.292  695.059"
            ]
          },
          "metadata": {
            "tags": []
          },
          "execution_count": 13
        }
      ]
    },
    {
      "cell_type": "code",
      "metadata": {
        "id": "YcpfdGu2Dbzo"
      },
      "source": [
        "X=dataframe.iloc[:,:-1]\n",
        "y=np.array(dataframe.iloc[:,-1]).reshape(-1, 1)"
      ],
      "execution_count": 14,
      "outputs": []
    },
    {
      "cell_type": "code",
      "metadata": {
        "id": "mbvaQKvuEWTQ"
      },
      "source": [
        "rows, cols = X.shape\n",
        "ntrain = int(rows*0.8)\n",
        "X_train=X.iloc[0:ntrain,:].copy()\n",
        "y_train= y[0:ntrain,:].copy()\n",
        "X_test=X.drop(X_train.index)\n",
        "y_test=np.delete(y,range(ntrain))\n",
        "y_train = y_train.reshape(-1, 1)\n",
        "y_test = y_test.reshape(-1, 1)"
      ],
      "execution_count": 15,
      "outputs": []
    },
    {
      "cell_type": "code",
      "metadata": {
        "id": "B6N5k_BVCdri"
      },
      "source": [
        "#, X_test, y_train, y_test = train_test_split(X, y, test_size=0.2, random_state=101)\n",
        "#X_train\n",
        "scalerX = MinMaxScaler() \n",
        "scalerY = MinMaxScaler() \n",
        "scalerX.fit(X) \n",
        "scalerY.fit(y) \n",
        "X_train = scalerX.transform(X_train)\n",
        "X_test = scalerX.transform(X_test)\n",
        "y_train= scalerY.transform(y_train) \n",
        "y_test= scalerY.transform(y_test)"
      ],
      "execution_count": 16,
      "outputs": []
    },
    {
      "cell_type": "code",
      "metadata": {
        "id": "QkyAsTkI71yi"
      },
      "source": [
        "X_train_tensors = Variable(torch.Tensor(X_train))\n",
        "X_test_tensors = Variable(torch.Tensor(X_test))\n",
        "\n",
        "y_train_tensors = Variable(torch.Tensor(y_train))\n",
        "y_test_tensors = Variable(torch.Tensor(y_test)) "
      ],
      "execution_count": 17,
      "outputs": []
    },
    {
      "cell_type": "code",
      "metadata": {
        "id": "Gnf48xLJ8BsI"
      },
      "source": [
        "#reshaping to rows, timestamps, features\n",
        "X_train_tensors_final = torch.reshape(X_train_tensors,   (X_train_tensors.shape[0], 1, X_train_tensors.shape[1]))\n",
        "X_test_tensors_final = torch.reshape(X_test_tensors,  (X_test_tensors.shape[0], 1, X_test_tensors.shape[1]))"
      ],
      "execution_count": 18,
      "outputs": []
    },
    {
      "cell_type": "code",
      "metadata": {
        "id": "EtLNRKs78EA2"
      },
      "source": [
        "class LSTM1(nn.Module):\n",
        "    def __init__(self, num_classes, input_size, hidden_size, num_layers, seq_length):\n",
        "        super(LSTM1, self).__init__()\n",
        "        self.num_classes = num_classes #number of classes\n",
        "        self.num_layers = num_layers #number of layers\n",
        "        self.input_size = input_size #input size\n",
        "        self.hidden_size = hidden_size #hidden state\n",
        "        self.seq_length = seq_length #sequence length\n",
        "\n",
        "        self.lstm = nn.LSTM(input_size=input_size, hidden_size=hidden_size,\n",
        "                          num_layers=num_layers, batch_first=True) #lstm\n",
        "        self.fc_1 =  nn.Linear(hidden_size, 128) #fully connected 1\n",
        "        self.fc = nn.Linear(128, num_classes) #fully connected last layer\n",
        "\n",
        "        self.relu = nn.ReLU()\n",
        "    \n",
        "    def forward(self,x):\n",
        "        h_0 = Variable(torch.zeros(self.num_layers, x.size(0), self.hidden_size)) #hidden state\n",
        "        c_0 = Variable(torch.zeros(self.num_layers, x.size(0), self.hidden_size)) #internal state\n",
        "        # Propagate input through LSTM\n",
        "        output, (hn, cn) = self.lstm(x, (h_0, c_0)) #lstm with input, hidden, and internal state\n",
        "        hn = hn.view(-1, self.hidden_size) #reshaping the data for Dense layer next\n",
        "        out = self.relu(hn)\n",
        "        out = self.fc_1(out) #first Dense\n",
        "        out = self.relu(out) #relu\n",
        "        out = self.fc(out) #Final Output\n",
        "        return out"
      ],
      "execution_count": 19,
      "outputs": []
    },
    {
      "cell_type": "code",
      "metadata": {
        "id": "4LZHwvad8WLA"
      },
      "source": [
        "num_epochs = 1000 #1000 epochs\n",
        "learning_rate = 0.001 #0.001 lr\n",
        "\n",
        "input_size = 4 #number of features\n",
        "hidden_size = 32 #number of features in hidden state\n",
        "num_layers = 1 #number of stacked lstm layers\n",
        "\n",
        "num_classes = 1 #number of output classes "
      ],
      "execution_count": 20,
      "outputs": []
    },
    {
      "cell_type": "code",
      "metadata": {
        "id": "qmnboHvm82Hp"
      },
      "source": [
        "lstm1 = LSTM1(num_classes, input_size, hidden_size, num_layers, X_train_tensors_final.shape[1]) #our lstm class"
      ],
      "execution_count": 21,
      "outputs": []
    },
    {
      "cell_type": "code",
      "metadata": {
        "id": "dlsQ76f9-4LA"
      },
      "source": [
        "criterion = torch.nn.MSELoss()    # mean-squared error for regression\n",
        "optimizer = torch.optim.Adam(lstm1.parameters(), lr=learning_rate) "
      ],
      "execution_count": 22,
      "outputs": []
    },
    {
      "cell_type": "code",
      "metadata": {
        "colab": {
          "base_uri": "https://localhost:8080/"
        },
        "id": "X_AKDt7J9lXH",
        "outputId": "984715a7-ea84-444d-bde7-edec65a64eb1"
      },
      "source": [
        "for epoch in range(num_epochs):\n",
        "  outputs = lstm1.forward(X_train_tensors_final) #forward pass\n",
        "  optimizer.zero_grad() #caluclate the gradient, manually setting to 0\n",
        " \n",
        "  # obtain the loss function\n",
        "  loss = criterion(outputs, y_train_tensors)\n",
        " \n",
        "  loss.backward() #calculates the loss of the loss function\n",
        " \n",
        "  optimizer.step() #improve from loss, i.e backprop\n",
        "  if epoch % 100 == 0:\n",
        "    print(\"Epoch: %d, loss: %1.5f\" % (epoch, loss.item())) "
      ],
      "execution_count": 23,
      "outputs": [
        {
          "output_type": "stream",
          "text": [
            "Epoch: 0, loss: 0.16917\n",
            "Epoch: 100, loss: 0.04082\n",
            "Epoch: 200, loss: 0.02460\n",
            "Epoch: 300, loss: 0.01898\n",
            "Epoch: 400, loss: 0.01535\n",
            "Epoch: 500, loss: 0.01157\n",
            "Epoch: 600, loss: 0.00778\n",
            "Epoch: 700, loss: 0.00544\n",
            "Epoch: 800, loss: 0.00385\n",
            "Epoch: 900, loss: 0.00244\n"
          ],
          "name": "stdout"
        }
      ]
    },
    {
      "cell_type": "code",
      "metadata": {
        "id": "mlWWowNb9mS9"
      },
      "source": [
        "X_ss = ss.fit_transform(X)\n",
        "y_mm = mm.fit_transform(y) \n",
        "\n",
        "df_X_ss = ss.transform(X) #old transformers\n",
        "df_y_mm = mm.transform(y) #old transformers\n",
        "\n",
        "df_X_ss = Variable(torch.Tensor(df_X_ss)) #converting to Tensors\n",
        "df_y_mm = Variable(torch.Tensor(df_y_mm))\n",
        "#reshaping the dataset\n",
        "df_X_ss = torch.reshape(df_X_ss, (df_X_ss.shape[0], 1, df_X_ss.shape[1])) "
      ],
      "execution_count": 24,
      "outputs": []
    },
    {
      "cell_type": "code",
      "metadata": {
        "colab": {
          "base_uri": "https://localhost:8080/",
          "height": 390
        },
        "id": "Iy73n3y99tGg",
        "outputId": "b04e81c5-53d1-4227-ef5c-5ad70c19e797"
      },
      "source": [
        "train_predict = lstm1(df_X_ss)#forward pass\n",
        "data_predict = train_predict.data.numpy() #numpy conversion\n",
        "dataY_plot = df_y_mm.data.numpy()\n",
        "\n",
        "data_predict = mm.inverse_transform(data_predict) #reverse transformation\n",
        "dataY_plot = mm.inverse_transform(dataY_plot)\n",
        "plt.figure(figsize=(10,6)) #plotting\n",
        "plt.axvline(x=200, c='r', linestyle='--') #size of the training set\n",
        "\n",
        "plt.plot(dataY_plot, label='Actuall Data') #actual plot\n",
        "plt.plot(data_predict, label='Predicted Data') #predicted plot\n",
        "plt.title('Time-Series Prediction')\n",
        "plt.legend()\n",
        "plt.show() "
      ],
      "execution_count": 25,
      "outputs": [
        {
          "output_type": "display_data",
          "data": {
            "image/png": "[encoded data removed]",
            "text/plain": [
              "<Figure size 720x432 with 1 Axes>"
            ]
          },
          "metadata": {
            "tags": [],
            "needs_background": "light"
          }
        }
      ]
    },
    {
      "cell_type": "code",
      "metadata": {
        "id": "WGSqfVhDBsZ6"
      },
      "source": [
        ""
      ],
      "execution_count": null,
      "outputs": []
    },
    {
      "cell_type": "code",
      "metadata": {
        "id": "NNh0FiAd-CPd"
      },
      "source": [
        ""
      ],
      "execution_count": 25,
      "outputs": []
    },
    {
      "cell_type": "code",
      "metadata": {
        "id": "BA8zj-jY2EZu",
        "colab": {
          "base_uri": "https://localhost:8080/",
          "height": 162
        },
        "outputId": "bbac6dbf-09ac-4172-c2a6-ab57c8fa760d"
      },
      "source": [
        "y_calc = y_calc_train.tolist()"
      ],
      "execution_count": 26,
      "outputs": [
        {
          "output_type": "error",
          "ename": "NameError",
          "evalue": "ignored",
          "traceback": [
            "\u001b[0;31m---------------------------------------------------------------------------\u001b[0m",
            "\u001b[0;31mNameError\u001b[0m                                 Traceback (most recent call last)",
            "\u001b[0;32m<ipython-input-26-f42ccee783c6>\u001b[0m in \u001b[0;36m<module>\u001b[0;34m()\u001b[0m\n\u001b[0;32m----> 1\u001b[0;31m \u001b[0my_calc\u001b[0m \u001b[0;34m=\u001b[0m \u001b[0my_calc_train\u001b[0m\u001b[0;34m.\u001b[0m\u001b[0mtolist\u001b[0m\u001b[0;34m(\u001b[0m\u001b[0;34m)\u001b[0m\u001b[0;34m\u001b[0m\u001b[0;34m\u001b[0m\u001b[0m\n\u001b[0m",
            "\u001b[0;31mNameError\u001b[0m: name 'y_calc_train' is not defined"
          ]
        }
      ]
    },
    {
      "cell_type": "code",
      "metadata": {
        "id": "pth2NdH124As"
      },
      "source": [
        "for yi in y_calc_test:\n",
        "  y_calc.append(yi)"
      ],
      "execution_count": null,
      "outputs": []
    },
    {
      "cell_type": "code",
      "metadata": {
        "id": "KczspclD30Q1"
      },
      "source": [
        "y_calc = np.array(y_calc).reshape(1,-1)\n",
        "y_calc = scalerY.inverse_transform(y_calc)"
      ],
      "execution_count": null,
      "outputs": []
    },
    {
      "cell_type": "code",
      "metadata": {
        "id": "XqBi0bYl3D0C"
      },
      "source": [
        "line1, =plt.plot(range(len(y)),y,c='r')\n",
        "line2, =plt.plot(range(len(y)),y_calc[0], c='b')\n",
        "plt.legend([line1,line2],['true','ANN'],loc='upper right')\n",
        "plt.show()"
      ],
      "execution_count": null,
      "outputs": []
    }
  ]
}