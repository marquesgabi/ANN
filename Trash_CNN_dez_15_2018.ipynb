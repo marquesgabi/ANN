{
  "nbformat": 4,
  "nbformat_minor": 0,
  "metadata": {
    "colab": {
      "name": "Trash_CNN_dez_15_2018.ipynb",
      "version": "0.3.2",
      "provenance": [],
      "collapsed_sections": [],
      "include_colab_link": true
    },
    "kernelspec": {
      "name": "python3",
      "display_name": "Python 3"
    }
  },
  "cells": [
    {
      "cell_type": "markdown",
      "metadata": {
        "id": "view-in-github",
        "colab_type": "text"
      },
      "source": [
        "<a href=\"https://colab.research.google.com/github/ucfilho/ANN/blob/master/Trash_CNN_dez_15_2018.ipynb\" target=\"_parent\"><img src=\"https://colab.research.google.com/assets/colab-badge.svg\" alt=\"Open In Colab\"/></a>"
      ]
    },
    {
      "metadata": {
        "id": "MYRWryRz8VRI",
        "colab_type": "code",
        "colab": {}
      },
      "cell_type": "code",
      "source": [
        "%matplotlib inline\n",
        "from matplotlib import pyplot as plt\n",
        "from PIL import Image\n",
        "import numpy as np\n",
        "import pandas as pd\n",
        "import os \n",
        "import cv2\n",
        "import re, random\n",
        "from tqdm import tqdm_notebook\n",
        "from random import shuffle\n",
        "import shutil\n",
        "import tensorflow as tf\n",
        "\n",
        "%matplotlib inline"
      ],
      "execution_count": 0,
      "outputs": []
    },
    {
      "metadata": {
        "id": "qyxgg_jvkfDw",
        "colab_type": "code",
        "colab": {}
      },
      "cell_type": "code",
      "source": [
        "# http://ftp.feq.ufu.br/ubirajara/\n",
        "# https://www.noip.com/support/knowledgebase/setting-up-a-ftp-server-on-your-home-computer/"
      ],
      "execution_count": 0,
      "outputs": []
    },
    {
      "metadata": {
        "id": "zsjb8DmRVtDy",
        "colab_type": "code",
        "outputId": "efdba7f4-202f-484f-f179-833bf2028733",
        "colab": {
          "base_uri": "https://localhost:8080/",
          "height": 233
        }
      },
      "cell_type": "code",
      "source": [
        "!wget http://ftp.feq.ufu.br/ubirajara/trash_nov_22_2018.zip\n",
        "!ls -l trash_nov_22_2018.zip\n"
      ],
      "execution_count": 3,
      "outputs": [
        {
          "output_type": "stream",
          "text": [
            "--2018-12-12 21:27:52--  http://ftp.feq.ufu.br/ubirajara/trash_nov_22_2018.zip\n",
            "Resolving ftp.feq.ufu.br (ftp.feq.ufu.br)... 200.19.144.11\n",
            "Connecting to ftp.feq.ufu.br (ftp.feq.ufu.br)|200.19.144.11|:80... connected.\n",
            "HTTP request sent, awaiting response... 200 OK\n",
            "Length: 42806842 (41M) [application/zip]\n",
            "Saving to: ‘trash_nov_22_2018.zip.3’\n",
            "\n",
            "trash_nov_22_2018.z 100%[===================>]  40.82M  11.2MB/s    in 5.3s    \n",
            "\n",
            "2018-12-12 21:27:57 (7.69 MB/s) - ‘trash_nov_22_2018.zip.3’ saved [42806842/42806842]\n",
            "\n",
            "-rw-r--r-- 1 root root 42806842 Nov 22 14:54 trash_nov_22_2018.zip\n"
          ],
          "name": "stdout"
        }
      ]
    },
    {
      "metadata": {
        "id": "MpGrx6JVXgys",
        "colab_type": "code",
        "colab": {}
      },
      "cell_type": "code",
      "source": [
        "import zipfile\n",
        "file_name = zipfile.ZipFile('trash_nov_22_2018.zip', 'r')\n",
        "file_name.extractall() \n"
      ],
      "execution_count": 0,
      "outputs": []
    },
    {
      "metadata": {
        "id": "-nVOPvajF15n",
        "colab_type": "code",
        "colab": {}
      },
      "cell_type": "code",
      "source": [
        "# all images are load in variable x...\n",
        "FILE='trash_nov_22_2018.zip'\n",
        "img_name=[]\n",
        "x=[]\n",
        "with zipfile.ZipFile(FILE, \"r\") as f:\n",
        "    for name in f.namelist():\n",
        "        img_name.append(name)\n",
        "        x.append(cv2.imread(name))"
      ],
      "execution_count": 0,
      "outputs": []
    },
    {
      "metadata": {
        "id": "rwluqKaxVD9o",
        "colab_type": "code",
        "colab": {}
      },
      "cell_type": "code",
      "source": [
        "# 'cardboard','glass','metal','paper','plastic','trash'"
      ],
      "execution_count": 0,
      "outputs": []
    }
  ]
}