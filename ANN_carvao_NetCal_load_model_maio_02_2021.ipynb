{
  "nbformat": 4,
  "nbformat_minor": 0,
  "metadata": {
    "kernelspec": {
      "display_name": "Python 3",
      "language": "python",
      "name": "python3"
    },
    "language_info": {
      "codemirror_mode": {
        "name": "ipython",
        "version": 3
      },
      "file_extension": ".py",
      "mimetype": "text/x-python",
      "name": "python",
      "nbconvert_exporter": "python",
      "pygments_lexer": "ipython3",
      "version": "3.5.4"
    },
    "colab": {
      "name": "ANN_carvao_NetCal_load_model_maio_02_2021.ipynb",
      "provenance": [],
      "include_colab_link": true
    }
  },
  "cells": [
    {
      "cell_type": "markdown",
      "metadata": {
        "id": "view-in-github",
        "colab_type": "text"
      },
      "source": [
        "<a href=\"https://colab.research.google.com/github/ucfilho/ANN/blob/master/ANN_carvao_NetCal_load_model_maio_02_2021.ipynb\" target=\"_parent\"><img src=\"https://colab.research.google.com/assets/colab-badge.svg\" alt=\"Open In Colab\"/></a>"
      ]
    },
    {
      "cell_type": "code",
      "metadata": {
        "id": "cF6kzanWQZgh",
        "colab": {
          "base_uri": "https://localhost:8080/"
        },
        "outputId": "a991956a-eaaa-46f6-d7e2-f96e1c2402b5"
      },
      "source": [
        "# bibliotecas usadas\n",
        "import numpy as np\n",
        "import pandas as pd\n",
        "import matplotlib.pyplot as plt\n",
        "from sklearn.neural_network import MLPRegressor\n",
        "from sklearn.model_selection import train_test_split\n",
        "from sklearn.metrics import mean_squared_error\n",
        "from sklearn import preprocessing\n",
        "from sklearn.metrics import r2_score \n",
        "from sklearn.externals import joblib\n",
        "from google.colab import files"
      ],
      "execution_count": 1,
      "outputs": [
        {
          "output_type": "stream",
          "text": [
            "/usr/local/lib/python3.7/dist-packages/sklearn/externals/joblib/__init__.py:15: FutureWarning: sklearn.externals.joblib is deprecated in 0.21 and will be removed in 0.23. Please import this functionality directly from joblib, which can be installed with: pip install joblib. If this warning is raised when loading pickled models, you may need to re-serialize those models with scikit-learn 0.21+.\n",
            "  warnings.warn(msg, category=FutureWarning)\n"
          ],
          "name": "stderr"
        }
      ]
    },
    {
      "cell_type": "code",
      "metadata": {
        "id": "UW1APYrFQZgl"
      },
      "source": [
        "# para gerar o grafico no browser\n",
        "%matplotlib inline"
      ],
      "execution_count": 2,
      "outputs": []
    },
    {
      "cell_type": "code",
      "metadata": {
        "id": "xDrq_-S8QZgn",
        "colab": {
          "base_uri": "https://localhost:8080/"
        },
        "outputId": "d19019d7-404c-4ec9-8564-324d3904d75d"
      },
      "source": [
        "!git clone https://github.com/ucfilho/ANN_2021_01/\n",
        "%cd ANN_2021_01"
      ],
      "execution_count": 3,
      "outputs": [
        {
          "output_type": "stream",
          "text": [
            "fatal: destination path 'ANN_2021_01' already exists and is not an empty directory.\n",
            "/content/ANN_2021_01\n"
          ],
          "name": "stdout"
        }
      ]
    },
    {
      "cell_type": "code",
      "metadata": {
        "id": "poo2kvF6QZgo",
        "colab": {
          "base_uri": "https://localhost:8080/"
        },
        "outputId": "345e7148-d78e-47b0-ec78-aa90676c83ff"
      },
      "source": [
        "# leitura dos dados\n",
        "df=pd.read_csv(\"Paper_Carvao_China_abril_12_2016.csv\")\n",
        "print(df.head())"
      ],
      "execution_count": 4,
      "outputs": [
        {
          "output_type": "stream",
          "text": [
            "   Unnamed: 0 Cod  Water    Ash  Volatil  ...  Nitro  Sulfur  Oxygen   TC     Ea\n",
            "0           1  LL   4.19  19.45    33.19  ...   1.02    4.38    7.66  435  170.1\n",
            "1           2  YY   1.06  20.46    31.53  ...   1.38    0.74    7.51  451  206.6\n",
            "2           3  SF   6.60   9.56    31.49  ...   0.95    0.38   12.56  431  273.5\n",
            "3           4  YM   9.47  14.19    30.02  ...   0.83    0.44   13.71  403  160.8\n",
            "4           5  ZZ   1.84  18.10    29.43  ...   1.22    0.88    8.02  466  228.4\n",
            "\n",
            "[5 rows x 14 columns]\n"
          ],
          "name": "stdout"
        }
      ]
    },
    {
      "cell_type": "code",
      "metadata": {
        "id": "sTC0pRtSdJoy"
      },
      "source": [
        "filename = 'model_ANN.pkl'\n",
        "model = joblib.load(filename)"
      ],
      "execution_count": 5,
      "outputs": []
    },
    {
      "cell_type": "code",
      "metadata": {
        "colab": {
          "base_uri": "https://localhost:8080/",
          "height": 138
        },
        "id": "7eQzdB0ucsLP",
        "outputId": "5969eaf3-8882-4516-c839-602fea9e6cac"
      },
      "source": [
        "df.head(3)"
      ],
      "execution_count": 6,
      "outputs": [
        {
          "output_type": "execute_result",
          "data": {
            "text/html": [
              "<div>\n",
              "<style scoped>\n",
              "    .dataframe tbody tr th:only-of-type {\n",
              "        vertical-align: middle;\n",
              "    }\n",
              "\n",
              "    .dataframe tbody tr th {\n",
              "        vertical-align: top;\n",
              "    }\n",
              "\n",
              "    .dataframe thead th {\n",
              "        text-align: right;\n",
              "    }\n",
              "</style>\n",
              "<table border=\"1\" class=\"dataframe\">\n",
              "  <thead>\n",
              "    <tr style=\"text-align: right;\">\n",
              "      <th></th>\n",
              "      <th>Unnamed: 0</th>\n",
              "      <th>Cod</th>\n",
              "      <th>Water</th>\n",
              "      <th>Ash</th>\n",
              "      <th>Volatil</th>\n",
              "      <th>FixC</th>\n",
              "      <th>NetCal</th>\n",
              "      <th>Carbon</th>\n",
              "      <th>Hydrog</th>\n",
              "      <th>Nitro</th>\n",
              "      <th>Sulfur</th>\n",
              "      <th>Oxygen</th>\n",
              "      <th>TC</th>\n",
              "      <th>Ea</th>\n",
              "    </tr>\n",
              "  </thead>\n",
              "  <tbody>\n",
              "    <tr>\n",
              "      <th>0</th>\n",
              "      <td>1</td>\n",
              "      <td>LL</td>\n",
              "      <td>4.19</td>\n",
              "      <td>19.45</td>\n",
              "      <td>33.19</td>\n",
              "      <td>43.17</td>\n",
              "      <td>23.91</td>\n",
              "      <td>59.22</td>\n",
              "      <td>4.08</td>\n",
              "      <td>1.02</td>\n",
              "      <td>4.38</td>\n",
              "      <td>7.66</td>\n",
              "      <td>435</td>\n",
              "      <td>170.1</td>\n",
              "    </tr>\n",
              "    <tr>\n",
              "      <th>1</th>\n",
              "      <td>2</td>\n",
              "      <td>YY</td>\n",
              "      <td>1.06</td>\n",
              "      <td>20.46</td>\n",
              "      <td>31.53</td>\n",
              "      <td>46.94</td>\n",
              "      <td>23.91</td>\n",
              "      <td>64.22</td>\n",
              "      <td>4.63</td>\n",
              "      <td>1.38</td>\n",
              "      <td>0.74</td>\n",
              "      <td>7.51</td>\n",
              "      <td>451</td>\n",
              "      <td>206.6</td>\n",
              "    </tr>\n",
              "    <tr>\n",
              "      <th>2</th>\n",
              "      <td>3</td>\n",
              "      <td>SF</td>\n",
              "      <td>6.60</td>\n",
              "      <td>9.56</td>\n",
              "      <td>31.49</td>\n",
              "      <td>52.35</td>\n",
              "      <td>26.22</td>\n",
              "      <td>66.34</td>\n",
              "      <td>3.61</td>\n",
              "      <td>0.95</td>\n",
              "      <td>0.38</td>\n",
              "      <td>12.56</td>\n",
              "      <td>431</td>\n",
              "      <td>273.5</td>\n",
              "    </tr>\n",
              "  </tbody>\n",
              "</table>\n",
              "</div>"
            ],
            "text/plain": [
              "   Unnamed: 0 Cod  Water    Ash  Volatil  ...  Nitro  Sulfur  Oxygen   TC     Ea\n",
              "0           1  LL   4.19  19.45    33.19  ...   1.02    4.38    7.66  435  170.1\n",
              "1           2  YY   1.06  20.46    31.53  ...   1.38    0.74    7.51  451  206.6\n",
              "2           3  SF   6.60   9.56    31.49  ...   0.95    0.38   12.56  431  273.5\n",
              "\n",
              "[3 rows x 14 columns]"
            ]
          },
          "metadata": {
            "tags": []
          },
          "execution_count": 6
        }
      ]
    },
    {
      "cell_type": "code",
      "metadata": {
        "colab": {
          "base_uri": "https://localhost:8080/",
          "height": 138
        },
        "id": "x35V_djsc9LI",
        "outputId": "4ff16c0e-d82f-4986-9088-81b37a74744f"
      },
      "source": [
        "df.tail(3)"
      ],
      "execution_count": 7,
      "outputs": [
        {
          "output_type": "execute_result",
          "data": {
            "text/html": [
              "<div>\n",
              "<style scoped>\n",
              "    .dataframe tbody tr th:only-of-type {\n",
              "        vertical-align: middle;\n",
              "    }\n",
              "\n",
              "    .dataframe tbody tr th {\n",
              "        vertical-align: top;\n",
              "    }\n",
              "\n",
              "    .dataframe thead th {\n",
              "        text-align: right;\n",
              "    }\n",
              "</style>\n",
              "<table border=\"1\" class=\"dataframe\">\n",
              "  <thead>\n",
              "    <tr style=\"text-align: right;\">\n",
              "      <th></th>\n",
              "      <th>Unnamed: 0</th>\n",
              "      <th>Cod</th>\n",
              "      <th>Water</th>\n",
              "      <th>Ash</th>\n",
              "      <th>Volatil</th>\n",
              "      <th>FixC</th>\n",
              "      <th>NetCal</th>\n",
              "      <th>Carbon</th>\n",
              "      <th>Hydrog</th>\n",
              "      <th>Nitro</th>\n",
              "      <th>Sulfur</th>\n",
              "      <th>Oxygen</th>\n",
              "      <th>TC</th>\n",
              "      <th>Ea</th>\n",
              "    </tr>\n",
              "  </thead>\n",
              "  <tbody>\n",
              "    <tr>\n",
              "      <th>61</th>\n",
              "      <td>62</td>\n",
              "      <td>YM4LA4JC2</td>\n",
              "      <td>5.70</td>\n",
              "      <td>16.22</td>\n",
              "      <td>19.05</td>\n",
              "      <td>59.03</td>\n",
              "      <td>25.28</td>\n",
              "      <td>66.86</td>\n",
              "      <td>3.32</td>\n",
              "      <td>1.16</td>\n",
              "      <td>0.39</td>\n",
              "      <td>6.35</td>\n",
              "      <td>408</td>\n",
              "      <td>176.4</td>\n",
              "    </tr>\n",
              "    <tr>\n",
              "      <th>62</th>\n",
              "      <td>63</td>\n",
              "      <td>YY2HN4LQ4</td>\n",
              "      <td>2.02</td>\n",
              "      <td>20.02</td>\n",
              "      <td>19.57</td>\n",
              "      <td>58.40</td>\n",
              "      <td>25.26</td>\n",
              "      <td>66.78</td>\n",
              "      <td>3.62</td>\n",
              "      <td>1.17</td>\n",
              "      <td>0.54</td>\n",
              "      <td>5.85</td>\n",
              "      <td>475</td>\n",
              "      <td>252.4</td>\n",
              "    </tr>\n",
              "    <tr>\n",
              "      <th>63</th>\n",
              "      <td>64</td>\n",
              "      <td>YY2PX2LA6</td>\n",
              "      <td>2.05</td>\n",
              "      <td>19.30</td>\n",
              "      <td>17.23</td>\n",
              "      <td>61.42</td>\n",
              "      <td>26.70</td>\n",
              "      <td>68.15</td>\n",
              "      <td>3.50</td>\n",
              "      <td>1.23</td>\n",
              "      <td>0.62</td>\n",
              "      <td>5.15</td>\n",
              "      <td>481</td>\n",
              "      <td>256.0</td>\n",
              "    </tr>\n",
              "  </tbody>\n",
              "</table>\n",
              "</div>"
            ],
            "text/plain": [
              "    Unnamed: 0        Cod  Water    Ash  ...  Sulfur  Oxygen   TC     Ea\n",
              "61          62  YM4LA4JC2   5.70  16.22  ...    0.39    6.35  408  176.4\n",
              "62          63  YY2HN4LQ4   2.02  20.02  ...    0.54    5.85  475  252.4\n",
              "63          64  YY2PX2LA6   2.05  19.30  ...    0.62    5.15  481  256.0\n",
              "\n",
              "[3 rows x 14 columns]"
            ]
          },
          "metadata": {
            "tags": []
          },
          "execution_count": 7
        }
      ]
    },
    {
      "cell_type": "code",
      "metadata": {
        "id": "FEvCqRGUQZgr",
        "colab": {
          "base_uri": "https://localhost:8080/"
        },
        "outputId": "19423bc6-0bcd-4700-f8f9-1b882068dc12"
      },
      "source": [
        "# separa as colunas de interesse\n",
        "\n",
        "Index=[2,3,4,5]\n",
        "X=df.iloc[:,Index].copy()\n",
        "print(X.head())\n"
      ],
      "execution_count": 8,
      "outputs": [
        {
          "output_type": "stream",
          "text": [
            "   Water    Ash  Volatil   FixC\n",
            "0   4.19  19.45    33.19  43.17\n",
            "1   1.06  20.46    31.53  46.94\n",
            "2   6.60   9.56    31.49  52.35\n",
            "3   9.47  14.19    30.02  46.32\n",
            "4   1.84  18.10    29.43  50.63\n"
          ],
          "name": "stdout"
        }
      ]
    },
    {
      "cell_type": "code",
      "metadata": {
        "id": "o_DGNriMXA5E"
      },
      "source": [
        "Index=[ 'NetCal']\n",
        "y =df[Index]"
      ],
      "execution_count": 9,
      "outputs": []
    },
    {
      "cell_type": "code",
      "metadata": {
        "id": "W1D-K3kZfdKC"
      },
      "source": [
        "scaler_X = preprocessing.MinMaxScaler((-1,1)).fit(X)\n",
        "scaler_Y = preprocessing.MinMaxScaler((-1,1)).fit(y)"
      ],
      "execution_count": 10,
      "outputs": []
    },
    {
      "cell_type": "code",
      "metadata": {
        "id": "a7xdJHoKhCUA"
      },
      "source": [
        "X = scaler_X.transform(X)\n",
        "y = scaler_Y.transform(y)"
      ],
      "execution_count": 11,
      "outputs": []
    },
    {
      "cell_type": "code",
      "metadata": {
        "id": "smaQ8uSGQZgv"
      },
      "source": [
        "# usa a rede neural treina em calculos para treino e teste\n",
        "y_calc = model.predict(X)"
      ],
      "execution_count": 12,
      "outputs": []
    },
    {
      "cell_type": "code",
      "metadata": {
        "id": "aVJXbUosQZgw"
      },
      "source": [
        "# transforma dos dados calculados na forma original (nao normatizado)\n",
        "y_obs = scaler_Y.inverse_transform(np.array(y).reshape(-1,1))\n",
        "y_calc = scaler_Y.inverse_transform(y_calc.reshape(-1,1))"
      ],
      "execution_count": 13,
      "outputs": []
    },
    {
      "cell_type": "code",
      "metadata": {
        "colab": {
          "base_uri": "https://localhost:8080/"
        },
        "id": "mOnXxDRMX4e8",
        "outputId": "a7fb8dce-c396-4674-8a74-20dba28fb603"
      },
      "source": [
        "print(pd.DataFrame({'test calc':y_calc.ravel(),'test true':y_obs.ravel()}))"
      ],
      "execution_count": 14,
      "outputs": [
        {
          "output_type": "stream",
          "text": [
            "    test calc  test true\n",
            "0   23.845842      23.91\n",
            "1   23.980729      23.91\n",
            "2   26.230157      26.22\n",
            "3   23.767939      23.80\n",
            "4   27.641110      27.73\n",
            "..        ...        ...\n",
            "59  22.239594      22.46\n",
            "60  25.622517      26.11\n",
            "61  25.207762      25.28\n",
            "62  25.727580      25.26\n",
            "63  26.092435      26.70\n",
            "\n",
            "[64 rows x 2 columns]\n"
          ],
          "name": "stdout"
        }
      ]
    },
    {
      "cell_type": "code",
      "metadata": {
        "id": "RZrkRZ3GQZgz",
        "colab": {
          "base_uri": "https://localhost:8080/",
          "height": 283
        },
        "outputId": "25723f78-5430-4665-ba79-df97d031bd20"
      },
      "source": [
        "# expressa os dois dados em figura\n",
        "fig = plt.figure()\n",
        "ax1 = fig.add_subplot(111)\n",
        "ax1.scatter(y_obs,y_calc, s=10, c='b', marker=\"s\")\n",
        "plt.xlim([15,30])\n",
        "plt.ylim([15,30])\n",
        "plt.ylabel('NetCal Calc')\n",
        "plt.xlabel('NetCal Obs')\n",
        "plt.show()"
      ],
      "execution_count": 15,
      "outputs": [
        {
          "output_type": "display_data",
          "data": {
            "image/png": "[encoded data removed]",
            "text/plain": [
              "<Figure size 432x288 with 1 Axes>"
            ]
          },
          "metadata": {
            "tags": [],
            "needs_background": "light"
          }
        }
      ]
    },
    {
      "cell_type": "code",
      "metadata": {
        "id": "aj_XteG2QZg0",
        "colab": {
          "base_uri": "https://localhost:8080/"
        },
        "outputId": "b3a0528d-576c-4f81-9331-476fcd86e614"
      },
      "source": [
        "mse=mean_squared_error(y_obs,y_calc)\n",
        "print(\"MSE teste=\",mse)\n",
        "R2=r2_score(y_obs,y_calc)\n",
        "print(\"R^2 teste=\",R2)"
      ],
      "execution_count": 16,
      "outputs": [
        {
          "output_type": "stream",
          "text": [
            "MSE teste= 0.19205025155105335\n",
            "R^2 teste= 0.9628149879423675\n"
          ],
          "name": "stdout"
        }
      ]
    }
  ]
}