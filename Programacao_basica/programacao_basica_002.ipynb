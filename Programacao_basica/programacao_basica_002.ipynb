{
  "nbformat": 4,
  "nbformat_minor": 0,
  "metadata": {
    "colab": {
      "name": "programacao_basica_002.ipynb",
      "provenance": [],
      "authorship_tag": "ABX9TyOYLyRlsJZHKTCuVLn6CzZQ",
      "include_colab_link": true
    },
    "kernelspec": {
      "name": "python3",
      "display_name": "Python 3"
    }
  },
  "cells": [
    {
      "cell_type": "markdown",
      "metadata": {
        "id": "view-in-github",
        "colab_type": "text"
      },
      "source": [
        "<a href=\"https://colab.research.google.com/github/ucfilho/ANN/blob/master/Programacao_basica/programacao_basica_002.ipynb\" target=\"_parent\"><img src=\"https://colab.research.google.com/assets/colab-badge.svg\" alt=\"Open In Colab\"/></a>"
      ]
    },
    {
      "cell_type": "code",
      "metadata": {
        "id": "2sAsr4oQKZmy"
      },
      "source": [
        "import numpy as np"
      ],
      "execution_count": 12,
      "outputs": []
    },
    {
      "cell_type": "code",
      "metadata": {
        "colab": {
          "base_uri": "https://localhost:8080/"
        },
        "id": "rGk9UJUwISxR",
        "outputId": "9a8f5a22-2e32-4d55-dc2a-b5c516f20371"
      },
      "source": [
        "Vol = 600\r\n",
        "pi = np.pi\r\n",
        "# Vol = pi*D**3/4\r\n",
        "D = (4*Vol/pi)**(1.0/3.0)\r\n",
        "print('Volume =',Vol,'m3')\r\n",
        "print('Diametro =',D,'m')"
      ],
      "execution_count": 13,
      "outputs": [
        {
          "output_type": "stream",
          "text": [
            "Volume = 600 m3\n",
            "Diametro = 9.141562994681664 m\n"
          ],
          "name": "stdout"
        }
      ]
    },
    {
      "cell_type": "code",
      "metadata": {
        "colab": {
          "base_uri": "https://localhost:8080/"
        },
        "id": "ArUPJismJF6k",
        "outputId": "97bd26b8-4406-4f83-a34b-c6a7619e6020"
      },
      "source": [
        "if(D>5):\r\n",
        "  print('reator grande')\r\n",
        "else:\r\n",
        "  print('nao é tao grande')"
      ],
      "execution_count": 14,
      "outputs": [
        {
          "output_type": "stream",
          "text": [
            "reator grande\n"
          ],
          "name": "stdout"
        }
      ]
    },
    {
      "cell_type": "code",
      "metadata": {
        "id": "Bpt5X0PQNXlx"
      },
      "source": [
        "# agora vamos discutir tipos\r\n",
        "# falaremos de listas, matrizes, vetores, dicionarios e dataframe"
      ],
      "execution_count": 15,
      "outputs": []
    },
    {
      "cell_type": "code",
      "metadata": {
        "colab": {
          "base_uri": "https://localhost:8080/",
          "height": 35
        },
        "id": "k_YqwZY-NmiT",
        "outputId": "61c946d4-593f-46df-e785-1ec5974fffbd"
      },
      "source": [
        "'''\r\n",
        "agora vamos discutir tipos\r\n",
        "falaremos de listas, matrizes, vetores, dicionarios e dataframe\r\n",
        "'''"
      ],
      "execution_count": 16,
      "outputs": [
        {
          "output_type": "execute_result",
          "data": {
            "application/vnd.google.colaboratory.intrinsic+json": {
              "type": "string"
            },
            "text/plain": [
              "'\\nagora vamos discutir tipos\\nfalaremos de listas, matrizes, vetores, dicionarios e dataframe\\n'"
            ]
          },
          "metadata": {
            "tags": []
          },
          "execution_count": 16
        }
      ]
    },
    {
      "cell_type": "code",
      "metadata": {
        "colab": {
          "base_uri": "https://localhost:8080/"
        },
        "id": "_Yg_ll5-OFJC",
        "outputId": "9be054c3-aa30-43f8-98b6-552d57954482"
      },
      "source": [
        "D = 9.14156\r\n",
        "pi = np.pi\r\n",
        "Vol = pi*D**3/4\r\n",
        "print('Volume =', Vol, 'm3')"
      ],
      "execution_count": 17,
      "outputs": [
        {
          "output_type": "stream",
          "text": [
            "Volume = 599.9994103387753 m3\n"
          ],
          "name": "stdout"
        }
      ]
    },
    {
      "cell_type": "code",
      "metadata": {
        "colab": {
          "base_uri": "https://localhost:8080/"
        },
        "id": "jVxhCcl2OsUY",
        "outputId": "d94a44b4-ac9d-4563-980a-ebabc6f0b5ec"
      },
      "source": [
        "Diametro = [1.0,2.0,3.0,4.0,5.0,6.0,7.0,8.0,9.0,10.0]\r\n",
        "Num = 10\r\n",
        "for i in range(Num):\r\n",
        "  D = Diametro[i]\r\n",
        "  Vol = pi*D**3/4\r\n",
        "  print('Volume =', Vol, 'm3')\r\n"
      ],
      "execution_count": 18,
      "outputs": [
        {
          "output_type": "stream",
          "text": [
            "Volume = 0.7853981633974483 m3\n",
            "Volume = 6.283185307179586 m3\n",
            "Volume = 21.205750411731103 m3\n",
            "Volume = 50.26548245743669 m3\n",
            "Volume = 98.17477042468103 m3\n",
            "Volume = 169.64600329384882 m3\n",
            "Volume = 269.3915700453248 m3\n",
            "Volume = 402.1238596594935 m3\n",
            "Volume = 572.5552611167398 m3\n",
            "Volume = 785.3981633974482 m3\n"
          ],
          "name": "stdout"
        }
      ]
    },
    {
      "cell_type": "code",
      "metadata": {
        "id": "feX-nffCQ9Kj"
      },
      "source": [
        "Diametro = [1.0,2.0,3.0,4.0,5.0,6.0,7.0,8.0,9.0,10.0]\r\n",
        "Volume = []\r\n",
        "print(Volume)\r\n",
        "Num = 10\r\n",
        "for i in range(Num):\r\n",
        "  Vol = pi*D**3/4\r\n",
        "  Volume.append(Vol)\r\n",
        "print(Volume)"
      ],
      "execution_count": null,
      "outputs": []
    }
  ]
}