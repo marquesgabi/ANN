{
  "nbformat": 4,
  "nbformat_minor": 0,
  "metadata": {
    "colab": {
      "name": "programacao_basica_002.ipynb",
      "provenance": [],
      "authorship_tag": "ABX9TyOOgxLgg8in/59EYC6vnFwd",
      "include_colab_link": true
    },
    "kernelspec": {
      "name": "python3",
      "display_name": "Python 3"
    }
  },
  "cells": [
    {
      "cell_type": "markdown",
      "metadata": {
        "id": "view-in-github",
        "colab_type": "text"
      },
      "source": [
        "<a href=\"https://colab.research.google.com/github/ucfilho/ANN/blob/master/Programacao_basica/programacao_basica_002.ipynb\" target=\"_parent\"><img src=\"https://colab.research.google.com/assets/colab-badge.svg\" alt=\"Open In Colab\"/></a>"
      ]
    },
    {
      "cell_type": "code",
      "metadata": {
        "id": "2sAsr4oQKZmy"
      },
      "source": [
        "import numpy as np\r\n",
        "import matplotlib.pyplot as plt\r\n",
        "import pandas as pd"
      ],
      "execution_count": 59,
      "outputs": []
    },
    {
      "cell_type": "code",
      "metadata": {
        "colab": {
          "base_uri": "https://localhost:8080/"
        },
        "id": "rGk9UJUwISxR",
        "outputId": "f0d13069-9076-4818-eceb-1096c02f7794"
      },
      "source": [
        "Vol = 600\r\n",
        "pi = np.pi\r\n",
        "# Vol = pi*D**3/4\r\n",
        "D = (4*Vol/pi)**(1.0/3.0)\r\n",
        "print('Volume =',Vol,'m3')\r\n",
        "print('Diametro =',D,'m')"
      ],
      "execution_count": 60,
      "outputs": [
        {
          "output_type": "stream",
          "text": [
            "Volume = 600 m3\n",
            "Diametro = 9.141562994681664 m\n"
          ],
          "name": "stdout"
        }
      ]
    },
    {
      "cell_type": "code",
      "metadata": {
        "colab": {
          "base_uri": "https://localhost:8080/"
        },
        "id": "ArUPJismJF6k",
        "outputId": "7197ecc8-240c-4089-8b42-7f02005fa846"
      },
      "source": [
        "if(D>5):\r\n",
        "  print('reator grande')\r\n",
        "else:\r\n",
        "  print('nao é tao grande')"
      ],
      "execution_count": 61,
      "outputs": [
        {
          "output_type": "stream",
          "text": [
            "reator grande\n"
          ],
          "name": "stdout"
        }
      ]
    },
    {
      "cell_type": "code",
      "metadata": {
        "id": "Bpt5X0PQNXlx"
      },
      "source": [
        "# agora vamos discutir tipos\r\n",
        "# falaremos de listas, matrizes, vetores, dicionarios e dataframe"
      ],
      "execution_count": 62,
      "outputs": []
    },
    {
      "cell_type": "code",
      "metadata": {
        "colab": {
          "base_uri": "https://localhost:8080/",
          "height": 35
        },
        "id": "k_YqwZY-NmiT",
        "outputId": "71471e2b-3932-485a-c087-b288dcee3faa"
      },
      "source": [
        "'''\r\n",
        "agora vamos discutir tipos\r\n",
        "falaremos de listas, matrizes, vetores, dicionarios e dataframe\r\n",
        "'''"
      ],
      "execution_count": 63,
      "outputs": [
        {
          "output_type": "execute_result",
          "data": {
            "application/vnd.google.colaboratory.intrinsic+json": {
              "type": "string"
            },
            "text/plain": [
              "'\\nagora vamos discutir tipos\\nfalaremos de listas, matrizes, vetores, dicionarios e dataframe\\n'"
            ]
          },
          "metadata": {
            "tags": []
          },
          "execution_count": 63
        }
      ]
    },
    {
      "cell_type": "code",
      "metadata": {
        "colab": {
          "base_uri": "https://localhost:8080/"
        },
        "id": "_Yg_ll5-OFJC",
        "outputId": "c78ad035-ddcf-4eb7-94d2-493f417c6298"
      },
      "source": [
        "D = 9.14156\r\n",
        "pi = np.pi\r\n",
        "Vol = pi*D**3/4\r\n",
        "print('Volume =', Vol, 'm3')"
      ],
      "execution_count": 64,
      "outputs": [
        {
          "output_type": "stream",
          "text": [
            "Volume = 599.9994103387753 m3\n"
          ],
          "name": "stdout"
        }
      ]
    },
    {
      "cell_type": "code",
      "metadata": {
        "colab": {
          "base_uri": "https://localhost:8080/"
        },
        "id": "jVxhCcl2OsUY",
        "outputId": "24dd5cab-ac0f-4da2-e904-45e580bb59e4"
      },
      "source": [
        "Diametro = [1.0,2.0,3.0,4.0,5.0,6.0,7.0,8.0,9.0,10.0]\r\n",
        "Num = 10\r\n",
        "for i in range(Num):\r\n",
        "  D = Diametro[i]\r\n",
        "  Vol = pi*D**3/4\r\n",
        "  print('Volume =', Vol, 'm3')\r\n"
      ],
      "execution_count": 65,
      "outputs": [
        {
          "output_type": "stream",
          "text": [
            "Volume = 0.7853981633974483 m3\n",
            "Volume = 6.283185307179586 m3\n",
            "Volume = 21.205750411731103 m3\n",
            "Volume = 50.26548245743669 m3\n",
            "Volume = 98.17477042468103 m3\n",
            "Volume = 169.64600329384882 m3\n",
            "Volume = 269.3915700453248 m3\n",
            "Volume = 402.1238596594935 m3\n",
            "Volume = 572.5552611167398 m3\n",
            "Volume = 785.3981633974482 m3\n"
          ],
          "name": "stdout"
        }
      ]
    },
    {
      "cell_type": "code",
      "metadata": {
        "colab": {
          "base_uri": "https://localhost:8080/"
        },
        "id": "feX-nffCQ9Kj",
        "outputId": "4e4cc9ee-a0b7-416a-9298-fd6d51c3d18e"
      },
      "source": [
        "Diametro = [1.0,2.0,3.0,4.0,5.0,6.0,7.0,8.0,9.0,10.0]\r\n",
        "Volume = []\r\n",
        "print(Volume)\r\n",
        "Num = 10\r\n",
        "for i in range(Num):\r\n",
        "  D = Diametro[i]\r\n",
        "  Vol = pi*D**3/4\r\n",
        "  Volume.append(Vol)\r\n",
        "print(Volume)"
      ],
      "execution_count": 66,
      "outputs": [
        {
          "output_type": "stream",
          "text": [
            "[]\n",
            "[0.7853981633974483, 6.283185307179586, 21.205750411731103, 50.26548245743669, 98.17477042468103, 169.64600329384882, 269.3915700453248, 402.1238596594935, 572.5552611167398, 785.3981633974482]\n"
          ],
          "name": "stdout"
        }
      ]
    },
    {
      "cell_type": "code",
      "metadata": {
        "colab": {
          "base_uri": "https://localhost:8080/",
          "height": 282
        },
        "id": "KUSQNcYiSrgl",
        "outputId": "3704caa3-dea8-4e4d-fbf4-d61b3f3e5a50"
      },
      "source": [
        "plt.plot(Diametro,Volume)\r\n"
      ],
      "execution_count": 67,
      "outputs": [
        {
          "output_type": "execute_result",
          "data": {
            "text/plain": [
              "[<matplotlib.lines.Line2D at 0x7f85cba33d50>]"
            ]
          },
          "metadata": {
            "tags": []
          },
          "execution_count": 67
        },
        {
          "output_type": "display_data",
          "data": {
            "image/png": "[encoded data removed]",
            "text/plain": [
              "<Figure size 432x288 with 1 Axes>"
            ]
          },
          "metadata": {
            "tags": [],
            "needs_background": "light"
          }
        }
      ]
    },
    {
      "cell_type": "code",
      "metadata": {
        "colab": {
          "base_uri": "https://localhost:8080/",
          "height": 282
        },
        "id": "uH95K7h9Te17",
        "outputId": "ce2b5543-4449-4470-9f3f-85fd7aeb583c"
      },
      "source": [
        "Diametro = [1.0,2.0,3.0,4.0,5.0,6.0,7.0,8.0,9.0,10.0]\r\n",
        "Volume_Novo = []\r\n",
        "pi = np.pi\r\n",
        "for D in Diametro:\r\n",
        "  Volume_Novo.append(pi*D**3/4)\r\n",
        "plt.plot(Diametro,Volume_Novo)"
      ],
      "execution_count": 68,
      "outputs": [
        {
          "output_type": "execute_result",
          "data": {
            "text/plain": [
              "[<matplotlib.lines.Line2D at 0x7f85cb9a2710>]"
            ]
          },
          "metadata": {
            "tags": []
          },
          "execution_count": 68
        },
        {
          "output_type": "display_data",
          "data": {
            "image/png": "[encoded data removed]",
            "text/plain": [
              "<Figure size 432x288 with 1 Axes>"
            ]
          },
          "metadata": {
            "tags": [],
            "needs_background": "light"
          }
        }
      ]
    },
    {
      "cell_type": "code",
      "metadata": {
        "colab": {
          "base_uri": "https://localhost:8080/"
        },
        "id": "j4nHpZCzUXxz",
        "outputId": "e513c9d8-e7fc-4086-e33e-814d8bc93541"
      },
      "source": [
        "# Dicionario\r\n",
        "Variaveis = { 'Diametro':Diametro,'Volume':Volume}\r\n",
        "print(Variaveis)"
      ],
      "execution_count": 69,
      "outputs": [
        {
          "output_type": "stream",
          "text": [
            "{'Diametro': [1.0, 2.0, 3.0, 4.0, 5.0, 6.0, 7.0, 8.0, 9.0, 10.0], 'Volume': [0.7853981633974483, 6.283185307179586, 21.205750411731103, 50.26548245743669, 98.17477042468103, 169.64600329384882, 269.3915700453248, 402.1238596594935, 572.5552611167398, 785.3981633974482]}\n"
          ],
          "name": "stdout"
        }
      ]
    },
    {
      "cell_type": "code",
      "metadata": {
        "id": "QPtohhiZVbNe"
      },
      "source": [
        "df = pd.DataFrame(Variaveis)\r\n",
        "print(df)\r\n"
      ],
      "execution_count": null,
      "outputs": []
    }
  ]
}