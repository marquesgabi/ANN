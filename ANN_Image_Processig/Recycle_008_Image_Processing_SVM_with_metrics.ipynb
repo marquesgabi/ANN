{
  "nbformat": 4,
  "nbformat_minor": 0,
  "metadata": {
    "colab": {
      "name": "Recycle_008_Image_Processing_SVM_with_metrics.ipynb",
      "provenance": [],
      "authorship_tag": "ABX9TyPWpjyV6MHkCygtHQEe7g9Y",
      "include_colab_link": true
    },
    "kernelspec": {
      "name": "python3",
      "display_name": "Python 3"
    },
    "language_info": {
      "name": "python"
    }
  },
  "cells": [
    {
      "cell_type": "markdown",
      "metadata": {
        "id": "view-in-github",
        "colab_type": "text"
      },
      "source": [
        "<a href=\"https://colab.research.google.com/github/ucfilho/ANN/blob/master/ANN_Image_Processig/Recycle_008_Image_Processing_SVM_with_metrics.ipynb\" target=\"_parent\"><img src=\"https://colab.research.google.com/assets/colab-badge.svg\" alt=\"Open In Colab\"/></a>"
      ]
    },
    {
      "cell_type": "code",
      "metadata": {
        "id": "VumF8Fkd4B2M"
      },
      "source": [
        "from matplotlib import pyplot as plt\n",
        "from sklearn.svm import SVC\n",
        "from sklearn import preprocessing\n",
        "from sklearn.model_selection import train_test_split\n",
        "from sklearn.metrics import classification_report\n",
        "import numpy as np\n",
        "import pandas as pd\n",
        "import cv2\n",
        "import random\n",
        "import zipfile"
      ],
      "execution_count": 1,
      "outputs": []
    },
    {
      "cell_type": "code",
      "metadata": {
        "colab": {
          "base_uri": "https://localhost:8080/"
        },
        "id": "G6zkIELM4FGk",
        "outputId": "13629192-eb0b-490a-a15a-3e06be8684b5"
      },
      "source": [
        "!git clone https://github.com/ucfilho/ANN_2021_01/\n",
        "%cd ANN_2021_01"
      ],
      "execution_count": 2,
      "outputs": [
        {
          "output_type": "stream",
          "text": [
            "Cloning into 'ANN_2021_01'...\n",
            "remote: Enumerating objects: 369, done.\u001b[K\n",
            "remote: Total 369 (delta 0), reused 0 (delta 0), pack-reused 369\u001b[K\n",
            "Receiving objects: 100% (369/369), 75.15 MiB | 25.16 MiB/s, done.\n",
            "Resolving deltas: 100% (209/209), done.\n",
            "/content/ANN_2021_01\n"
          ],
          "name": "stdout"
        }
      ]
    },
    {
      "cell_type": "code",
      "metadata": {
        "id": "61YkUwT-4Sli"
      },
      "source": [
        "file_name = zipfile.ZipFile('trash.zip', 'r')\n",
        "file_name.extractall()"
      ],
      "execution_count": 3,
      "outputs": []
    },
    {
      "cell_type": "code",
      "metadata": {
        "id": "PgVpmRi7mRlb"
      },
      "source": [
        "# all images are load in variable x...\n",
        "FILE='trash.zip'\n",
        "Img_Size = 50\n",
        "img_name=[]\n",
        "x_gray=[]\n",
        "x_original = []\n",
        "with zipfile.ZipFile(FILE, \"r\") as f:\n",
        "    for name in f.namelist():\n",
        "        img_name.append(name)\n",
        "        #x_gray.append(cv2.imread(name, 0))\n",
        "        x_gray.append(cv2.resize(cv2.imread(name, 0),(Img_Size,Img_Size)))"
      ],
      "execution_count": 4,
      "outputs": []
    },
    {
      "cell_type": "code",
      "metadata": {
        "id": "Rw0LeVUxb69_"
      },
      "source": [
        "y_names = []\n",
        "for yy in img_name:\n",
        "  name = yy[0]+yy[1]+yy[2]\n",
        "  y_names.append(name)"
      ],
      "execution_count": 5,
      "outputs": []
    },
    {
      "cell_type": "code",
      "metadata": {
        "id": "kHXoHE64b74V"
      },
      "source": [
        "unique_list = []    \n",
        "for yy in y_names:\n",
        "  if yy not in unique_list:\n",
        "    unique_list.append(yy)"
      ],
      "execution_count": 6,
      "outputs": []
    },
    {
      "cell_type": "code",
      "metadata": {
        "id": "BF9OQntxcC1T"
      },
      "source": [
        "n = len(unique_list)\n",
        "y = []\n",
        "for yy in y_names:\n",
        "  for i in range(n):\n",
        "    if(yy == unique_list[i]):\n",
        "      y.append(i)"
      ],
      "execution_count": 7,
      "outputs": []
    },
    {
      "cell_type": "code",
      "metadata": {
        "id": "CkWUcS2mqT9W"
      },
      "source": [
        "x_data = []\n",
        "for xx in x_gray:\n",
        "  x_data.append(xx.ravel())\n",
        "\n",
        "X = pd.DataFrame(x_data)"
      ],
      "execution_count": 8,
      "outputs": []
    },
    {
      "cell_type": "code",
      "metadata": {
        "id": "VICxUJ-rugEF"
      },
      "source": [
        "X_train, X_test, y_train, y_test = train_test_split(X,y,test_size=0.20, shuffle=True, random_state=3)"
      ],
      "execution_count": 9,
      "outputs": []
    },
    {
      "cell_type": "code",
      "metadata": {
        "id": "FZc-xzJXtfVE"
      },
      "source": [
        "scaler_X = preprocessing.MinMaxScaler((-1,1)).fit(X)\n",
        "X_train = scaler_X.transform(X_train)\n",
        "X_test = scaler_X.transform(X_test)"
      ],
      "execution_count": 10,
      "outputs": []
    },
    {
      "cell_type": "code",
      "metadata": {
        "id": "IlvS0BKCvis4",
        "colab": {
          "base_uri": "https://localhost:8080/"
        },
        "outputId": "e11e002e-d76e-4867-a1a1-f3afd14899bd"
      },
      "source": [
        "model = SVC()\n",
        "model.fit(X_train, y_train)"
      ],
      "execution_count": 11,
      "outputs": [
        {
          "output_type": "execute_result",
          "data": {
            "text/plain": [
              "SVC(C=1.0, break_ties=False, cache_size=200, class_weight=None, coef0=0.0,\n",
              "    decision_function_shape='ovr', degree=3, gamma='scale', kernel='rbf',\n",
              "    max_iter=-1, probability=False, random_state=None, shrinking=True,\n",
              "    tol=0.001, verbose=False)"
            ]
          },
          "metadata": {
            "tags": []
          },
          "execution_count": 11
        }
      ]
    },
    {
      "cell_type": "code",
      "metadata": {
        "id": "LAe9k5PXv3sr"
      },
      "source": [
        "# usa a rede neural treina em calculos para treino e teste\n",
        "y_calc_train=model.predict(X_train)\n",
        "y_calc_test=model.predict(X_test)"
      ],
      "execution_count": 12,
      "outputs": []
    },
    {
      "cell_type": "code",
      "metadata": {
        "colab": {
          "base_uri": "https://localhost:8080/"
        },
        "id": "85MAJRWiwA8j",
        "outputId": "0248b660-19f2-421c-cba9-9000678542e0"
      },
      "source": [
        "df = pd.DataFrame({'true':y_train,'calc':y_calc_train})\n",
        "print(pd.crosstab(df['true'],df['calc'])) "
      ],
      "execution_count": 13,
      "outputs": [
        {
          "output_type": "stream",
          "text": [
            "calc   0   1   2   3   4   5\n",
            "true                        \n",
            "0     81   1   1   1   3   0\n",
            "1      6  55   1   2   7   8\n",
            "2      1   4  79   0   6   7\n",
            "3      0   1   1  71  12   0\n",
            "4      5   1   4   0  75   1\n",
            "5      5   2   3   1   8  85\n"
          ],
          "name": "stdout"
        }
      ]
    },
    {
      "cell_type": "code",
      "metadata": {
        "colab": {
          "base_uri": "https://localhost:8080/"
        },
        "id": "iF_RMr19wDQs",
        "outputId": "de97dbcf-c30f-47e1-9181-927e2c7c24ba"
      },
      "source": [
        "df = pd.DataFrame({'true':y_test,'calc':y_calc_test})\n",
        "print(pd.crosstab(df['true'],df['calc'])) "
      ],
      "execution_count": 14,
      "outputs": [
        {
          "output_type": "stream",
          "text": [
            "calc   0  1   2   3   4  5\n",
            "true                      \n",
            "0     21  0   3   0   1  0\n",
            "1      3  3   6   4   4  5\n",
            "2      1  4  13   0   5  1\n",
            "3      2  0   1  12   4  0\n",
            "4      5  2   0   1  18  0\n",
            "5      2  1   2   1   1  9\n"
          ],
          "name": "stdout"
        }
      ]
    },
    {
      "cell_type": "code",
      "metadata": {
        "colab": {
          "base_uri": "https://localhost:8080/"
        },
        "id": "O_tqtB5AwtDl",
        "outputId": "da0cbc67-5713-45b8-9628-f1ab4d5ac28d"
      },
      "source": [
        "unique_list"
      ],
      "execution_count": 15,
      "outputs": [
        {
          "output_type": "execute_result",
          "data": {
            "text/plain": [
              "['car', 'gla', 'met', 'pap', 'pla', 'tra']"
            ]
          },
          "metadata": {
            "tags": []
          },
          "execution_count": 15
        }
      ]
    },
    {
      "cell_type": "code",
      "metadata": {
        "colab": {
          "base_uri": "https://localhost:8080/"
        },
        "id": "FT3aV4igcOzU",
        "outputId": "0df259aa-000b-460f-fc6a-ebe9862f695d"
      },
      "source": [
        "y_true = y_test\n",
        "y_pred = y_calc_test\n",
        "target_names = ['cardboard', 'glass', 'metal', 'paper', 'plastic', 'trash']\n",
        "print(classification_report(y_true, y_pred, target_names=target_names))"
      ],
      "execution_count": 16,
      "outputs": [
        {
          "output_type": "stream",
          "text": [
            "              precision    recall  f1-score   support\n",
            "\n",
            "   cardboard       0.62      0.84      0.71        25\n",
            "       glass       0.30      0.12      0.17        25\n",
            "       metal       0.52      0.54      0.53        24\n",
            "       paper       0.67      0.63      0.65        19\n",
            "     plastic       0.55      0.69      0.61        26\n",
            "       trash       0.60      0.56      0.58        16\n",
            "\n",
            "    accuracy                           0.56       135\n",
            "   macro avg       0.54      0.56      0.54       135\n",
            "weighted avg       0.53      0.56      0.54       135\n",
            "\n"
          ],
          "name": "stdout"
        }
      ]
    }
  ]
}